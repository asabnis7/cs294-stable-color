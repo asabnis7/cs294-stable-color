{
 "cells": [
  {
   "cell_type": "code",
   "execution_count": 1,
   "metadata": {
    "scrolled": true
   },
   "outputs": [
    {
     "name": "stdout",
     "output_type": "stream",
     "text": [
      "/home/jesseku/Documents/cs294-stable-color\n"
     ]
    }
   ],
   "source": [
    "cd .."
   ]
  },
  {
   "cell_type": "code",
   "execution_count": 2,
   "metadata": {},
   "outputs": [],
   "source": [
    "import numpy as np\n",
    "import matplotlib.pyplot as plt\n",
    "%matplotlib inline\n",
    "plt.rcParams['image.cmap'] = 'gray'\n",
    "plt.rcParams['image.interpolation'] = 'nearest'\n",
    "\n",
    "from src.gauss_color import EMGauss\n",
    "from utils.image_gen import ImageGenerator\n",
    "from utils.hex_lattice import gen_hex_lattice, gen_color_lattice\n",
    "#from sparse_coder.prep_field_dataset import get_data_matrix"
   ]
  },
  {
   "cell_type": "code",
   "execution_count": 3,
   "metadata": {},
   "outputs": [],
   "source": [
    "plt.rcParams.update({'font.size': 7})"
   ]
  },
  {
   "cell_type": "code",
   "execution_count": 4,
   "metadata": {},
   "outputs": [],
   "source": [
    "FONTSIZE=7"
   ]
  },
  {
   "cell_type": "code",
   "execution_count": 5,
   "metadata": {},
   "outputs": [],
   "source": [
    "from src.gauss_plots import plot_image, plot_rfs, compare_fourier, plot_path_estimate, get_snr_list"
   ]
  },
  {
   "cell_type": "code",
   "execution_count": 6,
   "metadata": {},
   "outputs": [],
   "source": [
    "l_i = 20\n",
    "ds = 0.3\n",
    "de = 1.09\n",
    "rf_ratio = 0.203\n",
    "# rf_ratio = 0.4\n",
    "n_t = 5\n",
    "l_n = (l_i * ds / np.sqrt(2))"
   ]
  },
  {
   "cell_type": "code",
   "execution_count": 7,
   "metadata": {},
   "outputs": [],
   "source": [
    "#mat = get_data_matrix(path='data/IMAGES.npy', l_patch=l_i, n_patches=10)\n",
    "#s_gen = mat[3].astype('float32')\n",
    "I = ImageGenerator(l_i)\n",
    "I.make_big_e()\n",
    "s_gen = I.img.astype('float32')\n",
    "\n",
    "# invert colors for additive color\n",
    "#s_gen[s_gen == 1] = 0.5\n",
    "#s_gen[s_gen == 0] = 1\n",
    "#s_gen[s_gen == 0.5] = 0\n",
    "\n",
    "# subtractive color - color range 0,255 mapped to 0,1\n",
    "# works like a printer - subtract\n",
    "rgb = [0.0, 255.0, 255.0]\n",
    "s_gen_color = np.dstack((s_gen,s_gen,s_gen))\n",
    "s_gen_color[:,:,0] = s_gen_color[:,:,0] - (rgb[0]/255.0) # R\n",
    "s_gen_color[:,:,1] = s_gen_color[:,:,1] - (rgb[1]/255.0) # G\n",
    "s_gen_color[:,:,2] = s_gen_color[:,:,2] - (rgb[2]/255.0) # B\n",
    "s_gen_color[s_gen_color < 0] = 0"
   ]
  },
  {
   "cell_type": "code",
   "execution_count": 8,
   "metadata": {},
   "outputs": [
    {
     "data": {
      "image/png": "[encoded data removed]",
      "text/plain": [
       "<Figure size 432x288 with 1 Axes>"
      ]
     },
     "metadata": {
      "needs_background": "light"
     },
     "output_type": "display_data"
    }
   ],
   "source": [
    "XE, YE = gen_color_lattice(0.4, 0.4, 0.2, 8.00, 0.8)\n",
    "\n",
    "# shift mosaic to fit in plot\n",
    "scaleR = [9.5]*len(XE[0])\n",
    "scaleG = [9.5]*len(XE[1])\n",
    "scaleB = [9.5]*len(XE[2])\n",
    "\n",
    "# plot mosaic\n",
    "#plt.scatter(XE[0]+scaleR, YE[0]+scaleR, color='red', alpha=0.5)\n",
    "#plt.scatter(XE[1]+scaleG, YE[1]+scaleG, color='green', alpha=0.5)\n",
    "#plt.scatter(XE[2]+scaleB, YE[2]+scaleB, color='blue', alpha=0.5)\n",
    "\n",
    "# plot colored E\n",
    "plt.imshow(s_gen_color)\n",
    "#plt.axes().set_aspect('equal')\n",
    "\n",
    "s_gen = s_gen.reshape(l_i*l_i,)"
   ]
  },
  {
   "cell_type": "code",
   "execution_count": 9,
   "metadata": {},
   "outputs": [
    {
     "name": "stdout",
     "output_type": "stream",
     "text": [
      "Run # 0\n",
      "WARNING:tensorflow:Falling back to exponential-space implementation of einsum() because index \"p\" is summed over more than two inputs.\n",
      "WARNING:tensorflow:Falling back to exponential-space implementation of einsum() because index \"t\" is summed over more than two inputs.\n",
      "Run # 1\n",
      "WARNING:tensorflow:Falling back to exponential-space implementation of einsum() because index \"p\" is summed over more than two inputs.\n",
      "WARNING:tensorflow:Falling back to exponential-space implementation of einsum() because index \"t\" is summed over more than two inputs.\n",
      "Run # 2\n",
      "WARNING:tensorflow:Falling back to exponential-space implementation of einsum() because index \"p\" is summed over more than two inputs.\n",
      "WARNING:tensorflow:Falling back to exponential-space implementation of einsum() because index \"t\" is summed over more than two inputs.\n",
      "CPU times: user 6min 17s, sys: 3min 15s, total: 9min 33s\n",
      "Wall time: 2min 32s\n"
     ]
    },
    {
     "data": {
      "image/png": "[encoded data removed]",
      "text/plain": [
       "<Figure size 432x288 with 1 Axes>"
      ]
     },
     "metadata": {
      "needs_background": "light"
     },
     "output_type": "display_data"
    }
   ],
   "source": [
    "%%time\n",
    "#s_gen_color.shape\n",
    "#s_gen = s_gen_color[:,:,0] #1st run\n",
    "#s_gen = s_gen_color[:,:,1] #2nd run\n",
    "#s_gen = s_gen_color[:,:,2] #3rd run\n",
    "s_gen = s_gen.reshape(l_i*l_i,)\n",
    "#plt.imshow(s_gen.reshape(l_i, l_i))\n",
    "for i in range(0,3):\n",
    "    print 'Run #', i\n",
    "    s_gen = s_gen_color[:,:,i]\n",
    "    s_gen = s_gen.reshape(l_i*l_i,)\n",
    "    \n",
    "    if i != 2:\n",
    "        emg = EMGauss(\n",
    "            test='redgreen', # redgreen for runs 1st,2nd; blue for 3rd\n",
    "            l_i=l_i, \n",
    "            motion_gen={'mode': 'Diffusion', 'dc': 4.},\n",
    "            motion_prior={'dc': 10.},\n",
    "            n_t=n_t,\n",
    "            ds=ds,\n",
    "            de=de,\n",
    "            n_p=50,\n",
    "            print_mode=True,\n",
    "            l_n=l_n,\n",
    "            rf_ratio=rf_ratio,\n",
    "            sig_obs=0.1,\n",
    "            r=0.47,\n",
    "            g=0.47,\n",
    "            b=0.6,\n",
    "            neuron_layout='hex_color'\n",
    "        )\n",
    "    else:\n",
    "         emg = EMGauss(\n",
    "            test='blue', # redgreen for runs 1st,2nd; blue for 3rd\n",
    "            l_i=l_i, \n",
    "            motion_gen={'mode': 'Diffusion', 'dc': 4.},\n",
    "            motion_prior={'dc': 10.},\n",
    "            n_t=n_t,\n",
    "            ds=ds,\n",
    "            de=de,\n",
    "            n_p=50,\n",
    "            print_mode=True,\n",
    "            l_n=l_n,\n",
    "            rf_ratio=rf_ratio,\n",
    "            sig_obs=0.1,\n",
    "            r=0.47,\n",
    "            g=0.47,\n",
    "            b=0.6,\n",
    "            neuron_layout='hex_color'\n",
    "        )\n",
    "    \n",
    "    n_repeats = 500\n",
    "    \n",
    "    data_ = []\n",
    "    for _ in range(n_repeats):\n",
    "        m, xr, yr = emg.gen_data(s_gen)\n",
    "        s, s_est_ = emg.run_em(m, n_passes=1, n_itr=n_t, reg=1.)\n",
    "        emg.pf.calculate_means_sdevs()\n",
    "\n",
    "        means = emg.pf.means.copy()\n",
    "        sdevs = emg.pf.sdevs.copy()\n",
    "\n",
    "\n",
    "        data_.append(\n",
    "            {\n",
    "                'm': m,\n",
    "                'xr': xr,\n",
    "                'yr': yr,\n",
    "                's': s,\n",
    "                's_est_': s_est_,\n",
    "                'means': means,\n",
    "                'sdevs': sdevs\n",
    "            })\n",
    "    \n",
    "    with emg.tb.sess.as_default():\n",
    "        xe, ye = emg.tb.sess.run([emg.tb.t_xe, emg.tb.t_ye])\n",
    "        xs, ys = emg.tb.sess.run([emg.tb.t_xs, emg.tb.t_ys])\n",
    "    \n",
    "    if i == 0:\n",
    "        stotal = [[],[],[]]\n",
    "    \n",
    "    stotal[i] = s\n",
    "    \n",
    "    if i == 2:\n",
    "        scolor = np.dstack((stotal[0].reshape(l_i,l_i), stotal[1].reshape(l_i,l_i),stotal[2].reshape(l_i,l_i)))\n",
    "        plt.imshow(scolor)\n",
    "    "
   ]
  },
  {
   "cell_type": "code",
   "execution_count": 129,
   "metadata": {
    "scrolled": true
   },
   "outputs": [
    {
     "name": "stdout",
     "output_type": "stream",
     "text": [
      "WARNING:tensorflow:Falling back to exponential-space implementation of einsum() because index \"p\" is summed over more than two inputs.\n",
      "WARNING:tensorflow:Falling back to exponential-space implementation of einsum() because index \"t\" is summed over more than two inputs.\n"
     ]
    }
   ],
   "source": [
    "#emg = EMGauss(\n",
    "#    test='blue', # redgreen for runs 1st,2nd; blue for 3rd\n",
    "#    l_i=l_i, \n",
    "#    motion_gen={'mode': 'Diffusion', 'dc': 4.},\n",
    "#    motion_prior={'dc': 10.},\n",
    "#    n_t=n_t,\n",
    "#    ds=ds,\n",
    "#    de=de,\n",
    "#    n_p=50,\n",
    "#    print_mode=True,\n",
    "#    l_n=l_n,\n",
    "#    rf_ratio=rf_ratio,\n",
    "#    sig_obs=0.1,\n",
    "#    r=0.47,\n",
    "#    g=0.47,\n",
    "#    b=0.6,\n",
    "#    neuron_layout='hex_color'\n",
    "#)"
   ]
  },
  {
   "cell_type": "code",
   "execution_count": 130,
   "metadata": {},
   "outputs": [],
   "source": [
    "#n_repeats = 2"
   ]
  },
  {
   "cell_type": "code",
   "execution_count": 131,
   "metadata": {},
   "outputs": [
    {
     "name": "stdout",
     "output_type": "stream",
     "text": [
      "CPU times: user 2.68 s, sys: 1.67 s, total: 4.35 s\n",
      "Wall time: 1.32 s\n"
     ]
    }
   ],
   "source": [
    "#%%time\n",
    "#data_ = []\n",
    "#for _ in range(n_repeats):\n",
    "#    m, xr, yr = emg.gen_data(s_gen)\n",
    "#    s, s_est_ = emg.run_em(m, n_passes=1, n_itr=n_t, reg=1.)\n",
    "#    emg.pf.calculate_means_sdevs()\n",
    "\n",
    "#    means = emg.pf.means.copy()\n",
    "#    sdevs = emg.pf.sdevs.copy()\n",
    "\n",
    "    \n",
    "#    data_.append(\n",
    "#        {\n",
    "#            'm': m,\n",
    "#            'xr': xr,\n",
    "#            'yr': yr,\n",
    "#            's': s,\n",
    "#            's_est_': s_est_,\n",
    "#            'means': means,\n",
    "#            'sdevs': sdevs\n",
    "#        })"
   ]
  },
  {
   "cell_type": "code",
   "execution_count": 132,
   "metadata": {},
   "outputs": [],
   "source": [
    "#with emg.tb.sess.as_default():\n",
    "#    xe, ye = emg.tb.sess.run([emg.tb.t_xe, emg.tb.t_ye])\n",
    "#    xs, ys = emg.tb.sess.run([emg.tb.t_xs, emg.tb.t_ys])\n"
   ]
  },
  {
   "cell_type": "code",
   "execution_count": 133,
   "metadata": {
    "scrolled": true
   },
   "outputs": [
    {
     "data": {
      "text/plain": [
       "<matplotlib.image.AxesImage at 0x7fdf6ef6cfd0>"
      ]
     },
     "execution_count": 133,
     "metadata": {},
     "output_type": "execute_result"
    },
    {
     "data": {
      "image/png": "[encoded data removed]",
      "text/plain": [
       "<Figure size 432x288 with 1 Axes>"
      ]
     },
     "metadata": {
      "needs_background": "light"
     },
     "output_type": "display_data"
    }
   ],
   "source": [
    "#plt.scatter(xr,yr)\n",
    "#plt.scatter(xs,ys, color='blue', alpha=0.2)\n",
    "#plt.scatter(xe,ye, color='red', alpha=0.2)\n",
    "\n",
    "# 1st run\n",
    "#stotal = [[],[],[]]\n",
    "#stotal[0] = s\n",
    "# 2nd run\n",
    "#stotal[1] = s \n",
    "# 3rd run\n",
    "#stotal[2] = s\n",
    "#scolor = np.dstack((stotal[0].reshape(l_i,l_i), stotal[1].reshape(l_i,l_i),stotal[2].reshape(l_i,l_i)))\n",
    "#plt.imshow(scolor)"
   ]
  },
  {
   "cell_type": "code",
   "execution_count": 10,
   "metadata": {},
   "outputs": [],
   "source": [
    "for d in data_:\n",
    "    d['snr_list'] = get_snr_list(s_gen, d['s_est_'], (d['xr'], d['yr']), d['means'], xs, ys, ds)"
   ]
  },
  {
   "cell_type": "code",
   "execution_count": 11,
   "metadata": {},
   "outputs": [],
   "source": [
    "from src.gauss_plots import smooth_image\n",
    "\n",
    "def plot_image(fig, ax, s, ds, colorbar=False, alpha=1.,\n",
    "                    cmap=plt.cm.gray, title='', vmin=None, vmax=None):\n",
    "    \"\"\"\n",
    "    Plot the image.\n",
    "\n",
    "    Parameters\n",
    "    ----------\n",
    "    fig : plt.Figure\n",
    "        Figure\n",
    "    ax : plt.Axes\n",
    "        Axes to plot image\n",
    "    s : array, shape (l_i, l_i)\n",
    "        Unraveled image to be plotted.\n",
    "    ds : float\n",
    "        Spacing between pixels.\n",
    "    colorbar : bool\n",
    "        If true, show a colorbar.\n",
    "    alpha : float\n",
    "        Alpha for showing image.\n",
    "    cmap : plt.cm\n",
    "        Colormap.\n",
    "    title : str\n",
    "        String for the title.\n",
    "    vmin, vmax : float\n",
    "        Min and max for imshow.\n",
    "    \"\"\"\n",
    "    s1 = smooth_image(s)\n",
    "    l_i = s.shape[0]\n",
    "    if vmin is None:\n",
    "        vmin = s.min()\n",
    "    if vmax is None:\n",
    "        vmax = s.max()\n",
    "    a = ds * l_i / 2\n",
    "    im = ax.imshow(\n",
    "        s1, cmap=cmap, interpolation='gaussian',\n",
    "        extent=[-a, a, -a, a], alpha=alpha,\n",
    "        vmin=vmin, vmax=vmax)\n",
    "    ax.set_title(title, fontsize=FONTSIZE)\n",
    "    if colorbar:\n",
    "        fig.colorbar(im, ax=ax)\n",
    "\n",
    "\n",
    "\n",
    "def plot_fourier_spectrum(fig, ax, s, ds, de):\n",
    "    \"\"\"\n",
    "    Plot the fourier spectrum.\n",
    "\n",
    "    Parameters\n",
    "    ----------\n",
    "    fig : plt.Figure\n",
    "        Figure for plotting\n",
    "    ax : plt.axes\n",
    "        Plotting axes.\n",
    "    s : array, shape (l_i, l_i)\n",
    "        Image to get the fourier transform of.\n",
    "    ds : float\n",
    "        Spacing of the pixels.\n",
    "    de : float\n",
    "        Spacing of Receptive fields.\n",
    "    \"\"\"\n",
    "    s1 = smooth_image(s)\n",
    "    l_i = s.shape[0]\n",
    "    ax.set_title('Fourier Transform', fontsize=FONTSIZE)\n",
    "    freqs = np.fft.fftshift(np.fft.fftfreq(l_i)) / ds\n",
    "    df = (freqs[1] - freqs[0])\n",
    "    fmin = freqs[0] - df / 2\n",
    "    fmax = freqs[-1] + df / 2\n",
    "    im = ax.imshow(np.abs(np.fft.fftshift(np.fft.fft2(s1))),\n",
    "               extent=[fmin, fmax, fmin, fmax],\n",
    "               cmap=plt.get_cmap('afmhot'))\n",
    "    fn = 0.5 * de\n",
    "    ax.add_patch(plt.Circle((0, 0), fn, color='gray', alpha=0.5))\n",
    "    ax.add_patch(plt.Circle((0, 0), fn / (np.sqrt(3.) / 2.), color='gray', alpha=0.25))\n",
    "    fig.colorbar(im, ax=ax)\n",
    "\n",
    "\n",
    "\n",
    "def compare_fourier(s_gen, s_inf, snr_list, l_i, ds, de, \n",
    "             xe, ye, rf_ratio):\n",
    "    \"\"\" \n",
    "    Plot the two fourier spectrums.\n",
    "\n",
    "    Parameters\n",
    "    ----------\n",
    "    s_gen : array, shape (l_i, l_i)\n",
    "      Image that generated the observations.\n",
    "    s_inf : array, shape (l_i, l_i)\n",
    "      Inferred image.\n",
    "    ds : float\n",
    "      Spacing between pixels.\n",
    "    de : float\n",
    "      Spacing between receptors.\n",
    "    xe, ye : array, shape (n_sensors,)\n",
    "      X, Y positions of sensors.\n",
    "    \"\"\"\n",
    "    n_row, n_col = 2, 3\n",
    "    fig, axes = plt.subplots(nrows=n_row, ncols=n_col, \n",
    "                        figsize=(n_col * 7/3., n_row * 2))\n",
    "    vmin, vmax = s_gen.min(), s_gen.max()\n",
    "\n",
    "    for i, (s, name) in enumerate(zip([s_gen, s_inf], ['Original', 'Estimate'])):\n",
    "        ax = axes[i][0]\n",
    "        plot_image(fig, ax, s, ds=ds, title='Image: {}'.format(name),\n",
    "                 vmin=vmin, vmax=vmax)\n",
    "\n",
    "        ax = axes[i][1]\n",
    "        plot_fourier_spectrum(fig, ax, s, ds, de) \n",
    "\n",
    "    ax = axes[0][2]\n",
    "    plot_rfs(ax, xe, ye, de, rf_ratio, alpha=0.5)\n",
    "    plot_image(\n",
    "      fig, ax, s_gen, ds=ds,\n",
    "      title='Image: {}'.format('Image with RFs')\n",
    "    )\n",
    "\n",
    "    ax = axes[1][2]\n",
    "#     ax.plot(snr_list)\n",
    "    ax.set_title('SNR as a function of time', fontsize=FONTSIZE)\n",
    "    return fig, axes"
   ]
  },
  {
   "cell_type": "code",
   "execution_count": 12,
   "metadata": {},
   "outputs": [],
   "source": [
    "from src.analyzer import plot_fill_between"
   ]
  },
  {
   "cell_type": "code",
   "execution_count": 13,
   "metadata": {},
   "outputs": [],
   "source": [
    "snrs = np.array([d['snr_list'] for d in data_])"
   ]
  },
  {
   "cell_type": "code",
   "execution_count": 14,
   "metadata": {},
   "outputs": [
    {
     "data": {
      "image/png": "[encoded data removed]",
      "text/plain": [
       "<Figure size 432x288 with 1 Axes>"
      ]
     },
     "metadata": {
      "needs_background": "light"
     },
     "output_type": "display_data"
    }
   ],
   "source": [
    "plt.plot(snrs.T);"
   ]
  },
  {
   "cell_type": "code",
   "execution_count": 15,
   "metadata": {},
   "outputs": [
    {
     "data": {
      "image/png": "[encoded data removed]",
      "text/plain": [
       "<Figure size 432x288 with 1 Axes>"
      ]
     },
     "metadata": {
      "needs_background": "light"
     },
     "output_type": "display_data"
    }
   ],
   "source": [
    "ax = plt.axes()\n",
    "plot_fill_between(ax, np.arange(snrs.shape[1]), snrs)"
   ]
  },
  {
   "cell_type": "code",
   "execution_count": 16,
   "metadata": {},
   "outputs": [
    {
     "data": {
      "text/plain": [
       "['s_est_', 'snr_list', 'means', 'm', 's', 'sdevs', 'xr', 'yr']"
      ]
     },
     "execution_count": 16,
     "metadata": {},
     "output_type": "execute_result"
    }
   ],
   "source": [
    "data_[0].keys()"
   ]
  },
  {
   "cell_type": "code",
   "execution_count": 17,
   "metadata": {},
   "outputs": [
    {
     "data": {
      "image/png": "[encoded data removed]",
      "text/plain": [
       "<Figure size 504x288 with 8 Axes>"
      ]
     },
     "metadata": {
      "needs_background": "light"
     },
     "output_type": "display_data"
    }
   ],
   "source": [
    "fig, axes = compare_fourier(\n",
    "    s_gen.reshape(l_i, l_i), \n",
    "    data_[0]['s_est_'][-1].reshape(l_i, l_i), \n",
    "    data_[0]['snr_list'], \n",
    "    l_i, ds, de, xe, ye, rf_ratio)\n",
    "ax = axes[1][2]\n",
    "plot_fill_between(ax, np.arange(snrs.shape[1]), snrs)\n",
    "plt.savefig('gauss_super_res.pdf')"
   ]
  },
  {
   "cell_type": "code",
   "execution_count": 18,
   "metadata": {},
   "outputs": [
    {
     "data": {
      "image/png": "[encoded data removed]",
      "text/plain": [
       "<Figure size 720x288 with 2 Axes>"
      ]
     },
     "metadata": {
      "needs_background": "light"
     },
     "output_type": "display_data"
    }
   ],
   "source": [
    "plt.figure(figsize=(10, 4))\n",
    "for d in range(2):\n",
    "    plt.subplot(1, 2, d + 1)\n",
    "    plot_path_estimate(data_[0]['means'], data_[0]['sdevs'], (xr, yr), d=d, q=100)"
   ]
  },
  {
   "cell_type": "code",
   "execution_count": 19,
   "metadata": {},
   "outputs": [],
   "source": [
    "#plt.imshow(s_gen.reshape(l_i, l_i))\n",
    "#plt.colorbar()"
   ]
  },
  {
   "cell_type": "code",
   "execution_count": null,
   "metadata": {},
   "outputs": [],
   "source": []
  }
 ],
 "metadata": {
  "kernelspec": {
   "display_name": "Python 2",
   "language": "python",
   "name": "python2"
  },
  "language_info": {
   "codemirror_mode": {
    "name": "ipython",
    "version": 2
   },
   "file_extension": ".py",
   "mimetype": "text/x-python",
   "name": "python",
   "nbconvert_exporter": "python",
   "pygments_lexer": "ipython2",
   "version": "2.7.17"
  }
 },
 "nbformat": 4,
 "nbformat_minor": 1
}
