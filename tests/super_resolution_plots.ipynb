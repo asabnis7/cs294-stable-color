{
 "cells": [
  {
   "cell_type": "code",
   "execution_count": null,
   "metadata": {
    "collapsed": false
   },
   "outputs": [],
   "source": [
    "cd .."
   ]
  },
  {
   "cell_type": "code",
   "execution_count": null,
   "metadata": {
    "collapsed": true
   },
   "outputs": [],
   "source": [
    "import os\n",
    "import numpy as np\n",
    "import pandas as pd\n",
    "from src.analyzer import DataAnalyzer, plot_fill_between\n",
    "import matplotlib.pyplot as plt\n",
    "from utils.rf_plot import show_fields\n",
    "from scipy.stats import ks_2samp\n",
    "%matplotlib inline\n",
    "output_dir = 'output/hyper_acuity'"
   ]
  },
  {
   "cell_type": "code",
   "execution_count": null,
   "metadata": {
    "collapsed": false
   },
   "outputs": [],
   "source": [
    "pkl_fns = [os.path.join(output_dir, fn) \n",
    "           for fn in os.listdir(output_dir) \n",
    "           if fn.endswith('.pkl')]\n",
    "pkl_fns.sort()\n",
    "len(pkl_fns)"
   ]
  },
  {
   "cell_type": "code",
   "execution_count": null,
   "metadata": {
    "collapsed": true
   },
   "outputs": [],
   "source": [
    "da_ = [DataAnalyzer.fromfilename(pkl_fn) for pkl_fn in pkl_fns]"
   ]
  },
  {
   "cell_type": "code",
   "execution_count": null,
   "metadata": {
    "collapsed": true
   },
   "outputs": [],
   "source": [
    "for da in da_:\n",
    "    print da.data['ds']"
   ]
  },
  {
   "cell_type": "code",
   "execution_count": null,
   "metadata": {
    "collapsed": true
   },
   "outputs": [],
   "source": [
    "da = da_[0]\n",
    "l_i"
   ]
  },
  {
   "cell_type": "code",
   "execution_count": null,
   "metadata": {
    "collapsed": false
   },
   "outputs": [],
   "source": [
    "def build_orientation_filter(l_i):\n",
    "#     l_i = s_gen.shape[0]\n",
    "    f = np.zeros((l_i, l_i))\n",
    "    f[0:l_i/2, 0:l_i/2] = 1\n",
    "    f[l_i/2:, l_i/2:] = 1\n",
    "    f = f - 0.5\n",
    "    return f\n",
    "    \n",
    "f = build_orientation_filter(da.data['L_I'])\n",
    "\n",
    "def fft_ratio(f, s0, s1):\n",
    "    p1, p2 = [np.sum(f * np.abs(np.fft.fft2(s))) for s in [s0, s1]]\n",
    "    return p1 / p2"
   ]
  },
  {
   "cell_type": "code",
   "execution_count": null,
   "metadata": {
    "collapsed": false
   },
   "outputs": [],
   "source": [
    "da = da_[11]\n",
    "\n",
    "s_gen = da.data['S_gen']\n",
    "s_inf = da.data['EM_data'][da.data['N_itr'] - 1]['image_est']\n",
    "l_i = s_gen.shape[0]\n",
    "n_row, n_col = 2, 3\n",
    "plt.figure(figsize=(n_col * 6, n_row * 4.5))\n",
    "for i, s in enumerate([s_gen, s_inf]):\n",
    "    \n",
    "    ax = plt.subplot(n_row, n_col, i * n_col + 1)\n",
    "    freqs = np.fft.fftshift(np.fft.fftfreq(l_i)) / da.data['ds']\n",
    "    df = (freqs[1] - freqs[0])\n",
    "    fmin = freqs[0] - df / 2\n",
    "    fmax = freqs[-1] + df / 2\n",
    "    plt.imshow(np.abs(np.fft.fftshift(np.fft.fft2(s))),\n",
    "               extent=[fmin, fmax, fmin, fmax],\n",
    "               cmap=plt.get_cmap('afmhot'))\n",
    "    fn = 0.5 * da.data['de']\n",
    "    ax.add_patch(plt.Circle((0, 0), fn, color='gray', alpha=0.5))\n",
    "    ax.add_patch(plt.Circle((0, 0), fn / (np.sqrt(3.) / 2.), color='gray', alpha=0.25))\n",
    "    plt.colorbar()\n",
    "    \n",
    "    plt.subplot(n_row, n_col, i * n_col + 2)\n",
    "    plt.imshow(s, cmap=plt.cm.gray, interpolation='gaussian')\n",
    "    plt.colorbar()\n",
    "\n",
    "    ax = plt.subplot(n_row, n_col, i * n_col + 3)\n",
    "    if i == 0:\n",
    "        fft_ratios = [fft_ratio(f, da.data['EM_data'][i]['image_est'], s_gen) \n",
    "                      for i in range(da.data['N_itr'])]\n",
    "        plt.plot(fft_ratios)\n",
    "    if i == 1:\n",
    "        da.plot_image_and_rfs(ax)"
   ]
  },
  {
   "cell_type": "code",
   "execution_count": null,
   "metadata": {
    "collapsed": false
   },
   "outputs": [],
   "source": [
    "xy = da.data['EM_data'][499]['path_means']"
   ]
  },
  {
   "cell_type": "code",
   "execution_count": null,
   "metadata": {
    "collapsed": false
   },
   "outputs": [],
   "source": [
    "xr, yr = da.data['XR'][0], da.data['YR'][0]"
   ]
  },
  {
   "cell_type": "code",
   "execution_count": null,
   "metadata": {
    "collapsed": true
   },
   "outputs": [],
   "source": [
    "x, y = xy[:, 0], xy[:, 1]"
   ]
  },
  {
   "cell_type": "code",
   "execution_count": null,
   "metadata": {
    "collapsed": false
   },
   "outputs": [],
   "source": [
    "plt.plot(x + y)\n",
    "plt.plot(xr + yr)"
   ]
  },
  {
   "cell_type": "code",
   "execution_count": null,
   "metadata": {
    "collapsed": false
   },
   "outputs": [],
   "source": [
    "plt.plot(x - y)\n",
    "plt.plot(xr - yr)"
   ]
  },
  {
   "cell_type": "code",
   "execution_count": null,
   "metadata": {
    "collapsed": false
   },
   "outputs": [],
   "source": [
    "da.plot_em_estimate(-1)"
   ]
  },
  {
   "cell_type": "code",
   "execution_count": null,
   "metadata": {
    "collapsed": true
   },
   "outputs": [],
   "source": [
    "da.plot_image_and_rfs?"
   ]
  },
  {
   "cell_type": "code",
   "execution_count": null,
   "metadata": {
    "collapsed": true
   },
   "outputs": [],
   "source": []
  },
  {
   "cell_type": "code",
   "execution_count": null,
   "metadata": {
    "collapsed": false
   },
   "outputs": [],
   "source": [
    "from utils.image_gen import ImageGenerator\n",
    "\n",
    "ig = ImageGenerator(27)\n",
    "\n",
    "phi = np.random.rand(1)[0] * np.pi * 2\n",
    "ig.make_gabor(f=0.25, sig=27./3, phi=phi, eta=eta)\n",
    "\n",
    "plt.subplot(1, 2, 1)\n",
    "plt.imshow(ig.img, cmap=plt.cm.gray)\n",
    "plt.subplot(1, 2, 2)\n",
    "plt.imshow(np.abs(np.fft.fftshift(np.fft.fft2(ig.img - ig.img.mean()))))"
   ]
  },
  {
   "cell_type": "code",
   "execution_count": null,
   "metadata": {
    "collapsed": false
   },
   "outputs": [],
   "source": [
    "(400 * 20 * 2 * 18 ** 4) / (15. * 10 ** 9)"
   ]
  }
 ],
 "metadata": {
  "kernelspec": {
   "display_name": "Python 2",
   "language": "python",
   "name": "python2"
  },
  "language_info": {
   "codemirror_mode": {
    "name": "ipython",
    "version": 2
   },
   "file_extension": ".py",
   "mimetype": "text/x-python",
   "name": "python",
   "nbconvert_exporter": "python",
   "pygments_lexer": "ipython2",
   "version": "2.7.12"
  }
 },
 "nbformat": 4,
 "nbformat_minor": 0
}
