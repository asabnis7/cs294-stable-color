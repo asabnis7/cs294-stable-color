{
 "cells": [
  {
   "cell_type": "code",
   "execution_count": 3,
   "metadata": {
    "collapsed": false
   },
   "outputs": [],
   "source": [
    "import os\n",
    "import numpy as np\n",
    "import pandas as pd\n",
    "import matplotlib.pyplot as plt\n",
    "%matplotlib inline\n",
    "\n",
    "from scipy.stats import ks_2samp\n",
    "\n",
    "from context import src, utils\n",
    "from src.analyzer import DataAnalyzer, plot_fill_between\n",
    "from utils.rf_plot import show_fields\n",
    "output_dir = '../output/sparsity'"
   ]
  },
  {
   "cell_type": "code",
   "execution_count": 4,
   "metadata": {
    "collapsed": false
   },
   "outputs": [
    {
     "data": {
      "text/plain": [
       "360"
      ]
     },
     "execution_count": 4,
     "metadata": {},
     "output_type": "execute_result"
    }
   ],
   "source": [
    "pkl_fns = [os.path.join(output_dir, fn) \n",
    "           for fn in os.listdir(output_dir) \n",
    "           if fn.endswith('.pkl')]\n",
    "pkl_fns.sort()\n",
    "len(pkl_fns)"
   ]
  },
  {
   "cell_type": "code",
   "execution_count": null,
   "metadata": {
    "collapsed": false
   },
   "outputs": [
    {
     "name": "stdout",
     "output_type": "stream",
     "text": [
      "../output/sparsity/data_2016_09_26__17_11_28.pkl\n",
      "../output/sparsity/data_2016_09_26__17_15_04.pkl\n",
      "../output/sparsity/data_2016_09_26__17_18_42.pkl\n",
      "../output/sparsity/data_2016_09_26__17_22_18.pkl\n",
      "../output/sparsity/data_2016_09_26__17_25_55.pkl\n",
      "../output/sparsity/data_2016_09_26__17_29_30.pkl\n",
      "../output/sparsity/data_2016_09_26__17_33_05.pkl\n",
      "../output/sparsity/data_2016_09_26__17_36_43.pkl\n",
      "../output/sparsity/data_2016_09_26__17_40_18.pkl\n",
      "../output/sparsity/data_2016_09_26__17_43_54.pkl\n",
      "../output/sparsity/data_2016_09_26__17_47_30.pkl\n",
      "../output/sparsity/data_2016_09_26__17_51_04.pkl\n",
      "../output/sparsity/data_2016_09_26__17_54_40.pkl\n",
      "../output/sparsity/data_2016_09_26__17_58_15.pkl\n",
      "../output/sparsity/data_2016_09_26__18_01_51.pkl\n",
      "../output/sparsity/data_2016_09_26__18_05_26.pkl\n",
      "../output/sparsity/data_2016_09_26__18_09_01.pkl\n",
      "../output/sparsity/data_2016_09_26__18_12_38.pkl\n",
      "../output/sparsity/data_2016_09_26__18_16_13.pkl\n",
      "../output/sparsity/data_2016_09_26__18_19_49.pkl\n",
      "../output/sparsity/data_2016_09_26__18_22_58.pkl\n",
      "../output/sparsity/data_2016_09_26__18_26_02.pkl\n",
      "../output/sparsity/data_2016_09_26__18_29_08.pkl\n",
      "../output/sparsity/data_2016_09_26__18_32_13.pkl\n",
      "../output/sparsity/data_2016_09_26__18_35_17.pkl\n",
      "../output/sparsity/data_2016_09_26__18_38_21.pkl\n",
      "../output/sparsity/data_2016_09_26__18_41_27.pkl\n",
      "../output/sparsity/data_2016_09_26__18_44_30.pkl\n",
      "../output/sparsity/data_2016_09_26__18_47_35.pkl\n",
      "../output/sparsity/data_2016_09_26__18_50_41.pkl\n",
      "../output/sparsity/data_2016_09_26__18_53_45.pkl\n",
      "../output/sparsity/data_2016_09_26__18_56_49.pkl\n",
      "../output/sparsity/data_2016_09_26__18_59_56.pkl\n",
      "../output/sparsity/data_2016_09_26__19_02_59.pkl\n",
      "../output/sparsity/data_2016_09_26__19_06_03.pkl\n",
      "../output/sparsity/data_2016_09_26__19_09_09.pkl\n",
      "../output/sparsity/data_2016_09_26__19_12_13.pkl\n",
      "../output/sparsity/data_2016_09_26__19_15_18.pkl\n",
      "../output/sparsity/data_2016_09_26__19_18_23.pkl\n",
      "../output/sparsity/data_2016_09_26__19_21_27.pkl\n",
      "../output/sparsity/data_2016_09_26__19_24_41.pkl\n",
      "../output/sparsity/data_2016_09_26__19_27_50.pkl\n",
      "../output/sparsity/data_2016_09_26__19_31_00.pkl\n",
      "../output/sparsity/data_2016_09_26__19_34_11.pkl\n",
      "../output/sparsity/data_2016_09_26__19_37_19.pkl\n",
      "../output/sparsity/data_2016_09_26__19_40_29.pkl\n",
      "../output/sparsity/data_2016_09_26__19_43_40.pkl\n",
      "../output/sparsity/data_2016_09_26__19_46_48.pkl\n",
      "../output/sparsity/data_2016_09_26__19_49_58.pkl\n",
      "../output/sparsity/data_2016_09_26__19_53_09.pkl\n",
      "../output/sparsity/data_2016_09_26__19_56_17.pkl\n",
      "../output/sparsity/data_2016_09_26__19_59_27.pkl\n",
      "../output/sparsity/data_2016_09_26__20_02_38.pkl\n",
      "../output/sparsity/data_2016_09_26__20_05_47.pkl\n",
      "../output/sparsity/data_2016_09_26__20_08_57.pkl\n",
      "../output/sparsity/data_2016_09_26__20_12_07.pkl\n",
      "../output/sparsity/data_2016_09_26__20_15_16.pkl\n",
      "../output/sparsity/data_2016_09_26__20_18_26.pkl\n",
      "../output/sparsity/data_2016_09_26__20_21_36.pkl\n",
      "../output/sparsity/data_2016_09_26__20_24_45.pkl\n",
      "../output/sparsity/data_2016_09_26__22_06_09.pkl\n",
      "../output/sparsity/data_2016_09_26__22_09_45.pkl\n",
      "../output/sparsity/data_2016_09_26__22_13_20.pkl\n",
      "../output/sparsity/data_2016_09_26__22_16_58.pkl\n",
      "../output/sparsity/data_2016_09_26__22_20_33.pkl\n",
      "../output/sparsity/data_2016_09_26__22_24_09.pkl\n",
      "../output/sparsity/data_2016_09_26__22_27_43.pkl\n",
      "../output/sparsity/data_2016_09_26__22_31_17.pkl\n",
      "../output/sparsity/data_2016_09_26__22_34_51.pkl\n",
      "../output/sparsity/data_2016_09_26__22_38_26.pkl\n",
      "../output/sparsity/data_2016_09_26__22_42_00.pkl\n",
      "../output/sparsity/data_2016_09_26__22_45_34.pkl\n",
      "../output/sparsity/data_2016_09_26__22_49_08.pkl\n",
      "../output/sparsity/data_2016_09_26__22_52_43.pkl\n",
      "../output/sparsity/data_2016_09_26__22_56_17.pkl\n",
      "../output/sparsity/data_2016_09_26__22_59_54.pkl\n",
      "../output/sparsity/data_2016_09_26__23_03_27.pkl\n",
      "../output/sparsity/data_2016_09_26__23_07_02.pkl\n",
      "../output/sparsity/data_2016_09_26__23_10_36.pkl\n",
      "../output/sparsity/data_2016_09_26__23_14_11.pkl\n",
      "../output/sparsity/data_2016_09_26__23_17_20.pkl\n",
      "../output/sparsity/data_2016_09_26__23_20_25.pkl\n",
      "../output/sparsity/data_2016_09_26__23_23_30.pkl\n",
      "../output/sparsity/data_2016_09_26__23_26_35.pkl\n",
      "../output/sparsity/data_2016_09_26__23_29_39.pkl\n",
      "../output/sparsity/data_2016_09_26__23_32_43.pkl\n",
      "../output/sparsity/data_2016_09_26__23_35_48.pkl\n",
      "../output/sparsity/data_2016_09_26__23_38_53.pkl\n",
      "../output/sparsity/data_2016_09_26__23_41_57.pkl\n",
      "../output/sparsity/data_2016_09_26__23_45_02.pkl\n",
      "../output/sparsity/data_2016_09_26__23_48_05.pkl\n",
      "../output/sparsity/data_2016_09_26__23_51_10.pkl\n",
      "../output/sparsity/data_2016_09_26__23_54_15.pkl\n",
      "../output/sparsity/data_2016_09_26__23_57_19.pkl\n",
      "../output/sparsity/data_2016_09_27__00_00_24.pkl\n",
      "../output/sparsity/data_2016_09_27__00_03_28.pkl\n",
      "../output/sparsity/data_2016_09_27__00_06_32.pkl\n",
      "../output/sparsity/data_2016_09_27__00_09_38.pkl\n",
      "../output/sparsity/data_2016_09_27__00_12_41.pkl\n",
      "../output/sparsity/data_2016_09_27__00_15_45.pkl\n",
      "../output/sparsity/data_2016_09_27__00_19_00.pkl\n",
      "../output/sparsity/data_2016_09_27__00_22_09.pkl\n",
      "../output/sparsity/data_2016_09_27__00_25_17.pkl\n",
      "../output/sparsity/data_2016_09_27__00_28_28.pkl\n",
      "../output/sparsity/data_2016_09_27__00_31_36.pkl\n",
      "../output/sparsity/data_2016_09_27__00_34_46.pkl\n",
      "../output/sparsity/data_2016_09_27__00_37_57.pkl\n",
      "../output/sparsity/data_2016_09_27__00_41_05.pkl\n",
      "../output/sparsity/data_2016_09_27__00_44_15.pkl\n",
      "../output/sparsity/data_2016_09_27__00_47_27.pkl\n",
      "../output/sparsity/data_2016_09_27__00_50_35.pkl\n",
      "../output/sparsity/data_2016_09_27__00_53_44.pkl\n",
      "../output/sparsity/data_2016_09_27__00_56_55.pkl\n",
      "../output/sparsity/data_2016_09_27__01_00_03.pkl\n",
      "../output/sparsity/data_2016_09_27__01_03_12.pkl\n",
      "../output/sparsity/data_2016_09_27__01_06_24.pkl\n",
      "../output/sparsity/data_2016_09_27__01_09_32.pkl\n",
      "../output/sparsity/data_2016_09_27__01_12_41.pkl\n",
      "../output/sparsity/data_2016_09_27__01_15_52.pkl\n",
      "../output/sparsity/data_2016_09_27__01_19_00.pkl\n",
      "../output/sparsity/data_2016_09_27__01_22_39.pkl\n",
      "../output/sparsity/data_2016_09_27__01_26_12.pkl\n",
      "../output/sparsity/data_2016_09_27__01_29_47.pkl\n",
      "../output/sparsity/data_2016_09_27__01_33_21.pkl\n",
      "../output/sparsity/data_2016_09_27__01_36_56.pkl\n",
      "../output/sparsity/data_2016_09_27__01_40_29.pkl\n",
      "../output/sparsity/data_2016_09_27__01_44_04.pkl\n",
      "../output/sparsity/data_2016_09_27__01_47_39.pkl\n",
      "../output/sparsity/data_2016_09_27__01_51_13.pkl\n",
      "../output/sparsity/data_2016_09_27__01_54_46.pkl\n",
      "../output/sparsity/data_2016_09_27__01_58_22.pkl\n",
      "../output/sparsity/data_2016_09_27__02_01_56.pkl\n",
      "../output/sparsity/data_2016_09_27__02_05_30.pkl\n",
      "../output/sparsity/data_2016_09_27__02_09_05.pkl\n",
      "../output/sparsity/data_2016_09_27__02_12_42.pkl\n",
      "../output/sparsity/data_2016_09_27__02_16_17.pkl\n",
      "../output/sparsity/data_2016_09_27__02_19_52.pkl\n",
      "../output/sparsity/data_2016_09_27__02_23_27.pkl\n",
      "../output/sparsity/data_2016_09_27__02_27_03.pkl\n",
      "../output/sparsity/data_2016_09_27__02_30_39.pkl\n",
      "../output/sparsity/data_2016_09_27__02_33_46.pkl\n",
      "../output/sparsity/data_2016_09_27__02_36_50.pkl\n",
      "../output/sparsity/data_2016_09_27__02_39_55.pkl\n",
      "../output/sparsity/data_2016_09_27__02_42_58.pkl\n",
      "../output/sparsity/data_2016_09_27__02_46_03.pkl\n",
      "../output/sparsity/data_2016_09_27__02_49_08.pkl\n",
      "../output/sparsity/data_2016_09_27__02_52_11.pkl\n",
      "../output/sparsity/data_2016_09_27__02_55_16.pkl\n",
      "../output/sparsity/data_2016_09_27__02_58_19.pkl\n",
      "../output/sparsity/data_2016_09_27__03_01_25.pkl\n",
      "../output/sparsity/data_2016_09_27__03_04_29.pkl\n",
      "../output/sparsity/data_2016_09_27__03_07_33.pkl\n",
      "../output/sparsity/data_2016_09_27__03_10_38.pkl\n",
      "../output/sparsity/data_2016_09_27__03_13_42.pkl\n",
      "../output/sparsity/data_2016_09_27__03_16_46.pkl\n",
      "../output/sparsity/data_2016_09_27__03_19_50.pkl\n",
      "../output/sparsity/data_2016_09_27__03_22_56.pkl\n",
      "../output/sparsity/data_2016_09_27__03_25_59.pkl\n",
      "../output/sparsity/data_2016_09_27__03_29_04.pkl\n",
      "../output/sparsity/data_2016_09_27__03_32_09.pkl\n",
      "../output/sparsity/data_2016_09_27__03_35_21.pkl\n",
      "../output/sparsity/data_2016_09_27__03_38_32.pkl\n",
      "../output/sparsity/data_2016_09_27__03_41_42.pkl\n",
      "../output/sparsity/data_2016_09_27__03_44_51.pkl\n",
      "../output/sparsity/data_2016_09_27__03_48_02.pkl\n",
      "../output/sparsity/data_2016_09_27__03_51_12.pkl\n",
      "../output/sparsity/data_2016_09_27__03_54_21.pkl\n",
      "../output/sparsity/data_2016_09_27__03_57_32.pkl\n",
      "../output/sparsity/data_2016_09_27__04_00_42.pkl\n",
      "../output/sparsity/data_2016_09_27__04_03_50.pkl\n",
      "../output/sparsity/data_2016_09_27__04_07_02.pkl\n",
      "../output/sparsity/data_2016_09_27__04_10_11.pkl\n",
      "../output/sparsity/data_2016_09_27__04_13_20.pkl\n",
      "../output/sparsity/data_2016_09_27__04_16_32.pkl\n",
      "../output/sparsity/data_2016_09_27__04_19_41.pkl\n",
      "../output/sparsity/data_2016_09_27__04_22_50.pkl\n",
      "../output/sparsity/data_2016_09_27__04_26_02.pkl\n",
      "../output/sparsity/data_2016_09_27__04_29_12.pkl\n",
      "../output/sparsity/data_2016_09_27__04_32_21.pkl\n",
      "../output/sparsity/data_2016_09_27__04_35_32.pkl\n",
      "../output/sparsity/data_2016_09_27__09_00_15.pkl\n",
      "../output/sparsity/data_2016_09_27__09_03_53.pkl\n",
      "../output/sparsity/data_2016_09_27__09_07_30.pkl\n",
      "../output/sparsity/data_2016_09_27__09_11_09.pkl\n",
      "../output/sparsity/data_2016_09_27__09_14_44.pkl\n",
      "../output/sparsity/data_2016_09_27__09_18_19.pkl\n",
      "../output/sparsity/data_2016_09_27__09_21_56.pkl\n",
      "../output/sparsity/data_2016_09_27__09_25_31.pkl\n",
      "../output/sparsity/data_2016_09_27__09_29_08.pkl\n",
      "../output/sparsity/data_2016_09_27__09_32_43.pkl\n",
      "../output/sparsity/data_2016_09_27__09_36_19.pkl\n",
      "../output/sparsity/data_2016_09_27__09_39_55.pkl\n",
      "../output/sparsity/data_2016_09_27__09_43_31.pkl\n",
      "../output/sparsity/data_2016_09_27__09_47_07.pkl\n",
      "../output/sparsity/data_2016_09_27__09_50_43.pkl\n",
      "../output/sparsity/data_2016_09_27__09_54_19.pkl\n",
      "../output/sparsity/data_2016_09_27__09_57_57.pkl\n",
      "../output/sparsity/data_2016_09_27__10_01_32.pkl\n",
      "../output/sparsity/data_2016_09_27__10_05_09.pkl\n",
      "../output/sparsity/data_2016_09_27__10_08_45.pkl\n",
      "../output/sparsity/data_2016_09_27__10_11_56.pkl\n",
      "../output/sparsity/data_2016_09_27__10_15_01.pkl\n",
      "../output/sparsity/data_2016_09_27__10_18_06.pkl\n",
      "../output/sparsity/data_2016_09_27__10_21_13.pkl\n",
      "../output/sparsity/data_2016_09_27__10_24_19.pkl\n",
      "../output/sparsity/data_2016_09_27__10_27_25.pkl\n",
      "../output/sparsity/data_2016_09_27__10_30_30.pkl\n",
      "../output/sparsity/data_2016_09_27__10_33_35.pkl\n",
      "../output/sparsity/data_2016_09_27__10_36_41.pkl\n",
      "../output/sparsity/data_2016_09_27__10_39_45.pkl\n",
      "../output/sparsity/data_2016_09_27__10_42_50.pkl\n",
      "../output/sparsity/data_2016_09_27__10_45_57.pkl\n",
      "../output/sparsity/data_2016_09_27__10_49_01.pkl\n",
      "../output/sparsity/data_2016_09_27__10_52_05.pkl\n",
      "../output/sparsity/data_2016_09_27__10_55_12.pkl\n",
      "../output/sparsity/data_2016_09_27__10_58_16.pkl\n",
      "../output/sparsity/data_2016_09_27__11_01_20.pkl\n",
      "../output/sparsity/data_2016_09_27__11_04_27.pkl\n",
      "../output/sparsity/data_2016_09_27__11_07_30.pkl\n",
      "../output/sparsity/data_2016_09_27__11_10_35.pkl\n",
      "../output/sparsity/data_2016_09_27__11_13_49.pkl\n",
      "../output/sparsity/data_2016_09_27__11_16_59.pkl\n",
      "../output/sparsity/data_2016_09_27__11_20_10.pkl\n",
      "../output/sparsity/data_2016_09_27__11_23_20.pkl\n",
      "../output/sparsity/data_2016_09_27__11_26_29.pkl\n",
      "../output/sparsity/data_2016_09_27__11_29_40.pkl\n",
      "../output/sparsity/data_2016_09_27__11_32_50.pkl\n",
      "../output/sparsity/data_2016_09_27__11_36_00.pkl\n",
      "../output/sparsity/data_2016_09_27__11_39_11.pkl\n",
      "../output/sparsity/data_2016_09_27__11_42_21.pkl\n",
      "../output/sparsity/data_2016_09_27__11_45_30.pkl\n",
      "../output/sparsity/data_2016_09_27__11_48_40.pkl\n",
      "../output/sparsity/data_2016_09_27__11_51_51.pkl\n",
      "../output/sparsity/data_2016_09_27__11_55_00.pkl\n",
      "../output/sparsity/data_2016_09_27__11_58_12.pkl\n",
      "../output/sparsity/data_2016_09_27__12_01_23.pkl\n",
      "../output/sparsity/data_2016_09_27__12_04_31.pkl\n",
      "../output/sparsity/data_2016_09_27__12_07_42.pkl\n",
      "../output/sparsity/data_2016_09_27__12_10_53.pkl\n",
      "../output/sparsity/data_2016_09_27__12_14_01.pkl\n",
      "../output/sparsity/data_2016_09_27__12_17_43.pkl\n",
      "../output/sparsity/data_2016_09_27__12_21_18.pkl\n",
      "../output/sparsity/data_2016_09_27__12_24_55.pkl\n",
      "../output/sparsity/data_2016_09_27__12_28_30.pkl\n",
      "../output/sparsity/data_2016_09_27__12_32_06.pkl\n",
      "../output/sparsity/data_2016_09_27__12_35_42.pkl\n",
      "../output/sparsity/data_2016_09_27__12_39_18.pkl\n",
      "../output/sparsity/data_2016_09_27__12_42_54.pkl\n",
      "../output/sparsity/data_2016_09_27__12_46_30.pkl\n",
      "../output/sparsity/data_2016_09_27__12_50_05.pkl\n",
      "../output/sparsity/data_2016_09_27__12_53_42.pkl\n",
      "../output/sparsity/data_2016_09_27__12_57_17.pkl\n",
      "../output/sparsity/data_2016_09_27__13_00_54.pkl\n",
      "../output/sparsity/data_2016_09_27__13_04_29.pkl\n",
      "../output/sparsity/data_2016_09_27__13_08_05.pkl\n",
      "../output/sparsity/data_2016_09_27__13_11_41.pkl\n",
      "../output/sparsity/data_2016_09_27__13_15_17.pkl\n",
      "../output/sparsity/data_2016_09_27__13_18_54.pkl\n",
      "../output/sparsity/data_2016_09_27__13_22_30.pkl\n",
      "../output/sparsity/data_2016_09_27__13_26_04.pkl\n",
      "../output/sparsity/data_2016_09_27__13_29_13.pkl\n",
      "../output/sparsity/data_2016_09_27__13_32_19.pkl\n",
      "../output/sparsity/data_2016_09_27__13_35_24.pkl\n",
      "../output/sparsity/data_2016_09_27__13_38_29.pkl\n",
      "../output/sparsity/data_2016_09_27__13_41_35.pkl\n",
      "../output/sparsity/data_2016_09_27__13_44_41.pkl\n",
      "../output/sparsity/data_2016_09_27__13_47_45.pkl\n",
      "../output/sparsity/data_2016_09_27__13_50_50.pkl\n",
      "../output/sparsity/data_2016_09_27__13_53_56.pkl\n",
      "../output/sparsity/data_2016_09_27__13_57_00.pkl\n",
      "../output/sparsity/data_2016_09_27__14_00_06.pkl\n",
      "../output/sparsity/data_2016_09_27__14_03_10.pkl\n",
      "../output/sparsity/data_2016_09_27__14_06_15.pkl\n",
      "../output/sparsity/data_2016_09_27__14_09_20.pkl\n",
      "../output/sparsity/data_2016_09_27__14_12_26.pkl\n",
      "../output/sparsity/data_2016_09_27__14_15_31.pkl\n",
      "../output/sparsity/data_2016_09_27__14_18_37.pkl\n",
      "../output/sparsity/data_2016_09_27__14_21_42.pkl\n",
      "../output/sparsity/data_2016_09_27__14_24_47.pkl\n",
      "../output/sparsity/data_2016_09_27__14_27_53.pkl\n",
      "../output/sparsity/data_2016_09_27__14_31_05.pkl\n",
      "../output/sparsity/data_2016_09_27__14_34_16.pkl\n",
      "../output/sparsity/data_2016_09_27__14_37_27.pkl\n",
      "../output/sparsity/data_2016_09_27__14_40_36.pkl\n",
      "../output/sparsity/data_2016_09_27__14_43_47.pkl\n",
      "../output/sparsity/data_2016_09_27__14_46_57.pkl\n",
      "../output/sparsity/data_2016_09_27__14_50_08.pkl\n",
      "../output/sparsity/data_2016_09_27__14_53_20.pkl"
     ]
    }
   ],
   "source": [
    "import pickle as pkl\n",
    "from utils.h5py_utils import save_dict\n",
    "\n",
    "pkl_fns = [os.path.join(output_dir, fn) \n",
    "           for fn in os.listdir(output_dir) \n",
    "           if fn.endswith('.pkl')]\n",
    "pkl_fns.sort()\n",
    "len(pkl_fns)\n",
    "\n",
    "for pkl_fn in pkl_fns:\n",
    "    print pkl_fn\n",
    "    with open(pkl_fn, 'rb') as f:\n",
    "        data = pkl.load(f)\n",
    "    save_fn = pkl_fn.replace('pkl', 'h5')\n",
    "    save_dict(save_fn, data)"
   ]
  },
  {
   "cell_type": "code",
   "execution_count": null,
   "metadata": {
    "collapsed": false
   },
   "outputs": [],
   "source": [
    "da_ = [DataAnalyzer.fromfilename(pkl_fn) for pkl_fn in pkl_fns]"
   ]
  },
  {
   "cell_type": "code",
   "execution_count": null,
   "metadata": {
    "collapsed": true
   },
   "outputs": [],
   "source": [
    "records = []\n",
    "for da in da_:\n",
    "    record = []\n",
    "    record.append(da.data['D_name'])\n",
    "    record.append(da.data['ds'])\n",
    "    record = record + da.snr_list()\n",
    "    records.append(record)"
   ]
  },
  {
   "cell_type": "code",
   "execution_count": null,
   "metadata": {
    "collapsed": false
   },
   "outputs": [],
   "source": [
    "t = da.time_list()\n",
    "data = pd.DataFrame.from_records(records, columns=['D_name', 'ds'] + list(t))\n",
    "grouped = pd.groupby(data, ['D_name', 'ds'])\n",
    "len(grouped)"
   ]
  },
  {
   "cell_type": "code",
   "execution_count": null,
   "metadata": {
    "collapsed": false
   },
   "outputs": [],
   "source": [
    "for i, (name, group) in enumerate(grouped):\n",
    "    D_name, ds = name\n",
    "#     if ds != 0.4:\n",
    "#         continue\n",
    "    print 'Group: {} | Prior: {} | ds: {}'.format(i, D_name, ds)\n",
    "    print group[list(t)[-1]].mean()"
   ]
  },
  {
   "cell_type": "code",
   "execution_count": null,
   "metadata": {
    "collapsed": true
   },
   "outputs": [],
   "source": [
    "INDEP = 'Indep'\n",
    "SPAR = 'Sparse'\n",
    "NSPAR = 'Non-sparse'"
   ]
  },
  {
   "cell_type": "code",
   "execution_count": null,
   "metadata": {
    "collapsed": true
   },
   "outputs": [],
   "source": [
    "c_ = plt.cm.rainbow(np.linspace(0, 1, len(grouped)))\n",
    "np.random.shuffle(c_); c_ = list(c_)\n",
    "\n",
    "label_ = {'Indep': 'Independent Pixel Prior', \n",
    "          'Sparse': 'Sparse Prior', \n",
    "          'Non-sparse' : 'Non-sparse Prior'}"
   ]
  },
  {
   "cell_type": "code",
   "execution_count": null,
   "metadata": {
    "collapsed": false
   },
   "outputs": [],
   "source": [
    "title = 'SNR as a function of time'.format('')\n",
    "plt.figure(figsize=(5, 5))\n",
    "plt.title(title)\n",
    "# , DC = {}'.format(100.)\n",
    "alpha = 0.75\n",
    "for c, (name, group) in zip(c_, grouped):\n",
    "    D_name, ds = name\n",
    "#     if mode != 'EM':\n",
    "#         continue\n",
    "    if ds != 0.70:\n",
    "        continue\n",
    "#     label = 'D: {}, ds: {:.2f}'.format(label_[D_name])\n",
    "    label = label_[D_name]\n",
    "    plot_fill_between(t, group[list(t)], label=label, c=c, k=0.5)\n",
    "#     plt.plot(t, group[list(t)].T.iloc[:, 0], c=c, label=label, alpha=alpha)\n",
    "#     plt.plot(t, group[list(t)].T.iloc[:, 1:], c=c, alpha=alpha);\n",
    "    plt.xlabel('time (ms)')\n",
    "    plt.ylabel('SNR')\n",
    "plt.legend(loc='upper left')\n",
    "# plt.ylim([0, 12]);\n",
    "# plt.savefig(os.path.join(output_dir, 'dict_compare.png'), dpi=200)"
   ]
  },
  {
   "cell_type": "code",
   "execution_count": null,
   "metadata": {
    "collapsed": true
   },
   "outputs": [],
   "source": [
    "final_snrs = [group[list(t)[-1]].values for k, group in grouped]\n",
    "names = [k for k, group in grouped]"
   ]
  },
  {
   "cell_type": "code",
   "execution_count": null,
   "metadata": {
    "collapsed": false
   },
   "outputs": [],
   "source": [
    "q1, q2 = 4, 7\n",
    "print names[q1], names[q2]\n",
    "ks_2samp(final_snrs[q1], final_snrs[q2])"
   ]
  },
  {
   "cell_type": "code",
   "execution_count": null,
   "metadata": {
    "collapsed": false
   },
   "outputs": [],
   "source": [
    "idx = [data[(data['D_name'] == key) & (data['ds'] == 0.7)].index.values for key in [INDEP, SPAR, NSPAR]]\n",
    "indep_idx, spar_idx, nspar_idx = idx"
   ]
  },
  {
   "cell_type": "code",
   "execution_count": null,
   "metadata": {
    "collapsed": false
   },
   "outputs": [],
   "source": [
    "da_[spar_idx[1]].plot_em_estimate(-1)\n",
    "# plt.savefig(os.path.join(output_dir, 'sparse_example.png'), dpi=200)"
   ]
  },
  {
   "cell_type": "code",
   "execution_count": null,
   "metadata": {
    "collapsed": false
   },
   "outputs": [],
   "source": [
    "video_dir = os.path.join(output_dir, 'video')\n",
    "\n",
    "if not os.path.exists(video_dir):\n",
    "    os.makedirs(video_dir)"
   ]
  },
  {
   "cell_type": "markdown",
   "metadata": {},
   "source": [
    "Create a video\n",
    "`\n",
    "avconv -framerate 20 -i img_%04d.png -c:v libx264 -r 30 rec.mp4\n",
    "`"
   ]
  },
  {
   "cell_type": "code",
   "execution_count": null,
   "metadata": {
    "collapsed": false
   },
   "outputs": [],
   "source": [
    "# for i in range(da.N_itr):\n",
    "#     print 'Rendering image {:04d}'.format(i)\n",
    "# #     da_[spar_idx[1]].plot_em_estimate(i)\n",
    "# #     plt.savefig(os.path.join(video_dir, 'img_{:04d}.png'.format(i)), dpi=150)\n",
    "# #     plt.close()"
   ]
  },
  {
   "cell_type": "markdown",
   "metadata": {},
   "source": [
    "Dictionary with Reconstructions after 200 ms, DC = 100"
   ]
  },
  {
   "cell_type": "code",
   "execution_count": null,
   "metadata": {
    "collapsed": true
   },
   "outputs": [],
   "source": [
    "da.plot_image_estimate?"
   ]
  },
  {
   "cell_type": "code",
   "execution_count": null,
   "metadata": {
    "collapsed": true
   },
   "outputs": [],
   "source": [
    "plt.rcParams['font.size'] = 7"
   ]
  },
  {
   "cell_type": "code",
   "execution_count": null,
   "metadata": {
    "collapsed": true
   },
   "outputs": [],
   "source": [
    "def plot_snr_fcn_time(fig, ax, grouped, label_):\n",
    "\n",
    "    c_ = plt.cm.rainbow(np.linspace(0, 1, len(grouped)))\n",
    "    np.random.shuffle(c_); c_ = list(c_)\n",
    "\n",
    "    c_ = ['r', 'r', 'r', 'g' 'g', 'g', 'b', 'b', 'b']\n",
    "#     label_ = {'Indep': 'Independent Pixel Prior', \n",
    "#               'Sparse': 'Sparse Prior', \n",
    "#               'Non-sparse' : 'Non-sparse Prior'}\n",
    "    \n",
    "    \n",
    "    title = 'SNR as a function of time'.format('')\n",
    "    ax.set_title(title)\n",
    "    alpha = 0.75\n",
    "    for c, (name, group) in zip(c_, grouped):\n",
    "        D_name, ds = name\n",
    "        if ds != 0.70:\n",
    "            continue\n",
    "    #     label = 'D: {}, ds: {:.2f}'.format(label_[D_name])\n",
    "        label = label_[D_name]\n",
    "#         label=D_name\n",
    "        plot_fill_between(ax, t, group[list(t)], label=label, c=c, k=0.5)\n",
    "        ax.set_xlabel('time (ms)')\n",
    "        ax.set_ylabel('SNR')\n",
    "    ax.legend(loc='upper left', prop={'size': '6'})"
   ]
  },
  {
   "cell_type": "code",
   "execution_count": null,
   "metadata": {
    "collapsed": true
   },
   "outputs": [],
   "source": [
    "from src.analyzer import _get_sum_gaussian_image"
   ]
  },
  {
   "cell_type": "code",
   "execution_count": null,
   "metadata": {
    "collapsed": false
   },
   "outputs": [],
   "source": [
    "def plot_image_estimate(self, fig, ax, q, cmap=plt.cm.gray,\n",
    "                        colorbar=True, vmax=None):\n",
    "\n",
    "    \"\"\"Plot the estimated image after iteration q.\"\"\"\n",
    "    if q == -1:\n",
    "        q = self.N_itr - 1\n",
    "\n",
    "    res = _get_sum_gaussian_image(\n",
    "        self.data['EM_data'][q]['image_est'].ravel(),\n",
    "        self.xs, self.ys,\n",
    "    self.data['ds'] / np.sqrt(2), n=100)\n",
    "    ax.set_title('Estimated Image, S = DA:\\n SNR = %.2f'\n",
    "            % self.snr_one_iteration(q))\n",
    "    # FIXME: extent calculation could break in future\n",
    "    a = self.data['ds'] * self.L_I / 2\n",
    "    cax = ax.imshow(res, cmap=cmap, interpolation='nearest',\n",
    "                         extent=[-a, a, -a, a],\n",
    "                         vmax=vmax)\n",
    "    if colorbar:\n",
    "        fig.colorbar(cax, ax=ax)"
   ]
  },
  {
   "cell_type": "code",
   "execution_count": null,
   "metadata": {
    "collapsed": false
   },
   "outputs": [],
   "source": [
    "tmp = [idx[u] for u in [0, 2, 1]]\n",
    "tmp = [tp[1] for tp in tmp]\n",
    "\n",
    "label_ = {'Indep': 'IND', \n",
    "          'Sparse': 'SP', \n",
    "          'Non-sparse' : 'N-SP'}\n",
    "\n",
    "\n",
    "\n",
    "fig, axes = plt.subplots(nrows=3, ncols=2, figsize=(3.5, 4))\n",
    "\n",
    "for (u, v), idx_  in zip([[0, 1], [1, 1], [2, 1]], tmp):\n",
    "    da = da_[idx_]\n",
    "    plot_image_estimate(da, fig, axes[u][v], -1, colorbar=False,\n",
    "                          vmax=2.8)\n",
    "    axes[u][v].set_title('{}: SNR = {:.2f}'.format(\n",
    "            label_[da.data['D_name']], da.snr_one_iteration(da.N_itr - 1)))\n",
    "\n",
    "plot_snr_fcn_time(fig, axes[2][0], grouped, label_)\n",
    "\n",
    "da.plot_base_image(fig, axes[0][0])\n",
    "axes[0][0].set_title('Original Pattern')\n",
    "\n",
    "\n",
    "da.plot_image_and_rfs(fig, axes[1][0], legend=False)\n",
    "for u in [0, 1]:\n",
    "    axes[u][0].set_xlabel('x (arcmin)')\n",
    "    axes[u][0].set_ylabel('y (arcmin)')\n",
    "axes[1][0].set_title('Pattern and RFs')\n",
    "\n",
    "for ax in axes.flat:\n",
    "    ax.set_title(ax.get_title(), fontdict={'size': 7})\n",
    "\n",
    "\n",
    "plt.tight_layout(pad=0.2)\n",
    "plt.savefig(os.path.join(output_dir, 'sparsity.pdf'), dpi=300)"
   ]
  },
  {
   "cell_type": "code",
   "execution_count": null,
   "metadata": {
    "collapsed": true
   },
   "outputs": [],
   "source": []
  },
  {
   "cell_type": "code",
   "execution_count": null,
   "metadata": {
    "collapsed": true
   },
   "outputs": [],
   "source": []
  },
  {
   "cell_type": "code",
   "execution_count": null,
   "metadata": {
    "collapsed": false
   },
   "outputs": [],
   "source": [
    "da.plot_image_and_rfs()"
   ]
  },
  {
   "cell_type": "code",
   "execution_count": null,
   "metadata": {
    "collapsed": false
   },
   "outputs": [],
   "source": [
    "fig, axes = plt.subplots(nrows=2, ncols=3, figsize=(7, 4.5))\n",
    "\n",
    "for i, idx1 in enumerate([idx[u] for u in [0, 2, 1]]):\n",
    "    da = da_[idx1[1]]\n",
    "    da.plot_image_estimate(fig, axes[1][i], -1)\n",
    "    axes[1][i].set_title('SNR = {:.2f}'.format(da.snr_one_iteration(da.N_itr - 1)))\n",
    "    plt.subplot(2, 3, i + 1)\n",
    "    D = da.data['D']\n",
    "    D_name = da.data['D_name']\n",
    "    plt.title('Dictionary: {}'.format(D_name))\n",
    "    show_fields(D, pos_only=True)\n",
    "\n",
    "plt.savefig(os.path.join(output_dir, 'dict_and_rec.pdf'), dpi=300)"
   ]
  },
  {
   "cell_type": "code",
   "execution_count": null,
   "metadata": {
    "collapsed": false
   },
   "outputs": [],
   "source": [
    "plt.figure(figsize=(7, 4))\n",
    "# plt.suptitle('Reconstruction as a function of time for Sparse Image Prior')\n",
    "da = da_[spar_idx[1]]\n",
    "for i, ii in enumerate([None, 0, 14, 24, 59, 99]):\n",
    "    plt.subplot(2, 3, i + 1)\n",
    "    if i == 0:\n",
    "        da.plot_base_image()\n",
    "        plt.title('True Image')\n",
    "    else: \n",
    "        da.plot_image_estimate(ii)\n",
    "        plt.title('t = {} ms'.format(ii * 2 + 2))\n",
    "plt.tight_layout()\n",
    "# plt.savefig(os.path.join(output_dir, 'sparse_rec_time.png'), dpi=200)"
   ]
  },
  {
   "cell_type": "markdown",
   "metadata": {},
   "source": [
    "Plot of Dictionaries"
   ]
  },
  {
   "cell_type": "code",
   "execution_count": null,
   "metadata": {
    "collapsed": false
   },
   "outputs": [],
   "source": [
    "plt.figure(figsize=(12, 3))\n",
    "for i, q in enumerate([0, 20, 40]):\n",
    "    da = da_[q]\n",
    "    plt.subplot(1, 3, i + 1)\n",
    "\n",
    "    D = da.data['D']\n",
    "    D_name = da.data['D_name']\n",
    "    plt.title('Dictionary: {}'.format(D_name))\n",
    "    show_fields(D, pos_only=True)\n",
    "# plt.savefig(os.path.join(output_dir, 'dictionaries.png'), dpi=250)"
   ]
  },
  {
   "cell_type": "code",
   "execution_count": null,
   "metadata": {
    "collapsed": false
   },
   "outputs": [],
   "source": [
    "plt.figure(figsize=(3, 3))\n",
    "da.plot_tuning_curves()\n",
    "plt.tight_layout()\n",
    "# plt.savefig(os.path.join(output_dir, 'firing_rate.png'), dpi=200)"
   ]
  },
  {
   "cell_type": "code",
   "execution_count": null,
   "metadata": {
    "collapsed": true
   },
   "outputs": [],
   "source": []
  },
  {
   "cell_type": "code",
   "execution_count": null,
   "metadata": {
    "collapsed": true
   },
   "outputs": [],
   "source": []
  },
  {
   "cell_type": "code",
   "execution_count": null,
   "metadata": {
    "collapsed": true
   },
   "outputs": [],
   "source": []
  },
  {
   "cell_type": "code",
   "execution_count": null,
   "metadata": {
    "collapsed": true
   },
   "outputs": [],
   "source": []
  },
  {
   "cell_type": "code",
   "execution_count": null,
   "metadata": {
    "collapsed": true
   },
   "outputs": [],
   "source": []
  },
  {
   "cell_type": "code",
   "execution_count": null,
   "metadata": {
    "collapsed": true
   },
   "outputs": [],
   "source": []
  },
  {
   "cell_type": "code",
   "execution_count": null,
   "metadata": {
    "collapsed": true
   },
   "outputs": [],
   "source": []
  },
  {
   "cell_type": "code",
   "execution_count": null,
   "metadata": {
    "collapsed": true
   },
   "outputs": [],
   "source": []
  }
 ],
 "metadata": {
  "kernelspec": {
   "display_name": "Python 2",
   "language": "python",
   "name": "python2"
  },
  "language_info": {
   "codemirror_mode": {
    "name": "ipython",
    "version": 2
   },
   "file_extension": ".py",
   "mimetype": "text/x-python",
   "name": "python",
   "nbconvert_exporter": "python",
   "pygments_lexer": "ipython2",
   "version": "2.7.12"
  }
 },
 "nbformat": 4,
 "nbformat_minor": 0
}
