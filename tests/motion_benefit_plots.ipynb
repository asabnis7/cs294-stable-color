{
 "cells": [
  {
   "cell_type": "code",
   "execution_count": null,
   "metadata": {},
   "outputs": [],
   "source": [
    "import os\n",
    "import numpy as np\n",
    "\n",
    "import matplotlib.pyplot as plt\n",
    "from matplotlib.ticker import MaxNLocator\n",
    "%matplotlib inline\n",
    "# plt.rcParams['image.interpolation'] = 'nearest'\n",
    "plt.rcParams['image.cmap'] = 'gray'\n",
    "plt.rcParams['font.size'] = 10\n",
    "plt.rcParams['font.sans-serif'] = [u'Arial']\n",
    "from matplotlib.patches import Rectangle\n",
    "\n",
    "\n",
    "\n",
    "LINEWIDTH = 0.25\n",
    "\n",
    "plt.rcParams['lines.linewidth'] = LINEWIDTH\n",
    "plt.rcParams['axes.linewidth'] = LINEWIDTH\n",
    "plt.rcParams['xtick.major.width'] = LINEWIDTH\n",
    "plt.rcParams['ytick.major.width'] = LINEWIDTH\n",
    "\n",
    "plt.rcParams['legend.fancybox'] = False\n",
    "plt.rcParams['legend.frameon'] = False\n",
    "\n",
    "\n",
    "import brewer2mpl\n",
    "bmap = brewer2mpl.get_map('Set1', 'qualitative', 5)\n",
    "colors = bmap.mpl_colors\n",
    "\n",
    "plt.rcParams['axes.color_cycle'] = colors\n",
    "\n",
    "\n",
    "\n",
    "from scipy.stats import ks_2samp\n",
    "from sklearn.neighbors import KernelDensity\n",
    "\n",
    "import pandas as pd\n",
    "\n",
    "\n",
    "from context import src, utils\n",
    "from src.analyzer import DataAnalyzer, plot_fill_between\n",
    "from utils.plot_utils import label_subplot, equalize_y_axes\n",
    "\n",
    "\n",
    "def nice_print(lst):\n",
    "    l1 = []\n",
    "    for l in lst:\n",
    "        if isinstance(l, str):\n",
    "            l1.append(l)\n",
    "        elif isinstance(l, float):\n",
    "            l1.append('{:6.2f}'.format(l))\n",
    "        elif isinstance(l, int):\n",
    "            l1.append('{:02}'.format(l))\n",
    "        else:\n",
    "            l1.append(str(l))\n",
    "    return ' | '.join(l1)\n",
    "\n",
    "from collections import OrderedDict\n",
    "\n",
    "def groupby(data, grouping_columns):\n",
    "    \"\"\"\n",
    "    Groupby that has group names that are a dictionary.\n",
    "    \"\"\"\n",
    "    grouped = pd.groupby(data, grouping_columns)\n",
    "\n",
    "    lst = []\n",
    "    for name, group in grouped:\n",
    "        if len(grouping_columns) == 1:\n",
    "            name = (name,)\n",
    "        name1 = OrderedDict(zip(grouping_columns, name))\n",
    "        lst.append((name1, group))\n",
    "    return lst"
   ]
  },
  {
   "cell_type": "code",
   "execution_count": null,
   "metadata": {},
   "outputs": [],
   "source": [
    "%load_ext autoreload\n",
    "%autoreload 2"
   ]
  },
  {
   "cell_type": "code",
   "execution_count": null,
   "metadata": {
    "collapsed": true
   },
   "outputs": [],
   "source": [
    "def plot_results(ax, grouped):\n",
    "    \"\"\"Plot SNR vs. Time for the different inference modes.\"\"\"\n",
    "    label_ = []\n",
    "    rect_ = []\n",
    "    for name, group in grouped:\n",
    "        gen_mode = name['gen_mode']\n",
    "        inf_mode = name['inference_mode']\n",
    "        label = ({EXP: 'S:M', NOM: 'S:NM'}[gen_mode] + ' | ' + \n",
    "                 {'EM': 'D:EM ', 'NoMotion': 'D:NM'}[inf_mode])\n",
    "        plot_fill_between(ax, t, group[list(t)], label=label, confidence_interval=True)\n",
    "        c = ax.get_lines()[-1].get_color()\n",
    "        rect_.append(Rectangle((0, 0), 1, 1, fc=c, hatch=None, linewidth=0))\n",
    "        label_.append(label)\n",
    "    ax.legend(rect_, label_, loc='upper left', prop={'size': 7}, labelspacing=0.2)"
   ]
  },
  {
   "cell_type": "code",
   "execution_count": null,
   "metadata": {},
   "outputs": [],
   "source": [
    "data_fns = []\n",
    "for output_dir in ['../output/motion_benefit_nom1', '../output/motion_benefit6']:  # Main plots of motion benefit\n",
    "# for output_dir in ['../output/motion_benefit_drop']:   # Plots for motion benefit in the presence of cone loss\n",
    "# for output_dir in ['../output/motion_benefit_best_dc_sweep']:  # Find best diffusion constant \n",
    "    data_fns.extend(\n",
    "        [os.path.join(output_dir, fn) \n",
    "               for fn in os.listdir(output_dir) \n",
    "               if fn.endswith('.h5')]\n",
    "        )\n",
    "data_fns.sort()\n",
    "len(data_fns)"
   ]
  },
  {
   "cell_type": "code",
   "execution_count": null,
   "metadata": {
    "collapsed": true
   },
   "outputs": [],
   "source": [
    "da_ = map(DataAnalyzer.fromfilename, data_fns)\n",
    "\n",
    "for da in da_:\n",
    "    da.s_range = 'pos'"
   ]
  },
  {
   "cell_type": "code",
   "execution_count": null,
   "metadata": {
    "collapsed": true
   },
   "outputs": [],
   "source": [
    "out_ = []\n",
    "for da in da_:\n",
    "    out = {}\n",
    "    out['inference_mode'] = da.data['EM_data/mode']\n",
    "    out['gen_mode'] = da.data['motion_gen']['mode']   # True eye movements or no eye movements\n",
    "    try:\n",
    "        out['gen_dc'] = da.data['motion_gen']['dc']\n",
    "    except KeyError:\n",
    "        out['gen_dc'] = 0.0\n",
    "    try:\n",
    "        out['drop_prob'] = da.data['drop_prob']\n",
    "    except KeyError:\n",
    "        out['drop_prob'] = 0.0\n",
    "    out['prior_dc'] = da.data['motion_prior']['dc']\n",
    "    out['ds'] = da.data['ds'] # Image size\n",
    "    for t, snr_t in zip(da.time_list(), da.snr_list()):\n",
    "        out[t] = snr_t\n",
    "\n",
    "    out_.append(out)"
   ]
  },
  {
   "cell_type": "code",
   "execution_count": null,
   "metadata": {},
   "outputs": [],
   "source": [
    "t = da.time_list()\n",
    "tf = t[-1]\n",
    "data = pd.DataFrame(out_)\n",
    "\n",
    "grouping_columns = ['inference_mode', 'gen_mode', 'gen_dc', 'prior_dc', 'drop_prob',]\n",
    "grouped = groupby(data, grouping_columns)\n",
    "\n",
    "EXP = 'Experiment'\n",
    "NOM = 'Diffusion'  # no motion"
   ]
  },
  {
   "cell_type": "code",
   "execution_count": null,
   "metadata": {
    "scrolled": false
   },
   "outputs": [],
   "source": [
    "print ['Group'] + grouping_columns + ['SNR']\n",
    "for i, (name, group) in enumerate(grouped):\n",
    "    if name['drop_prob'] > 0.1:\n",
    "        continue\n",
    "    print nice_print((i,) + tuple(name.values()) + (group[list(t)[-1]].mean(),))"
   ]
  },
  {
   "cell_type": "code",
   "execution_count": null,
   "metadata": {
    "collapsed": true
   },
   "outputs": [],
   "source": [
    "# # Select the best prior_dc for given gen_dc\n",
    "# grouping_columns = ['inference_mode', 'gen_mode', 'gen_dc', 'ds', 'drop_prob',]\n",
    "# grouped = groupby(data, grouping_columns)\n",
    "# data1 = []\n",
    "# for name, group in grouped:\n",
    "# #     print group\n",
    "#     subgrouped = groupby(group, ['prior_dc'])\n",
    "#     snrs = [subgroup[tf].mean() for _, subgroup in subgrouped]\n",
    "#     best_group_idx = np.argmax(snrs)\n",
    "#     _, best_group = subgrouped[best_group_idx]\n",
    "#     data1.append(best_group)\n",
    "\n",
    "# data1 = pd.concat(data1)\n",
    "\n",
    "# df1 = pd.groupby(\n",
    "#     data1[['gen_dc', t[-1], 'drop_prob']], \n",
    "#     ['gen_dc', 'drop_prob']).aggregate([np.mean, np.std])\n",
    "# df1.reset_index(inplace=True)\n",
    "\n",
    "\n",
    "# fig, ax = plt.subplots(1, 1, figsize=(3, 3))\n",
    "# for name, group in df1.groupby('drop_prob'):\n",
    "#     ax.plot(group['gen_dc'], group[t[-1]]['mean'], label='Drop Prob: {:.2f}'.format(name))\n",
    "# ax.set_ylabel('SNR')\n",
    "# ax.set_xlabel('gen_dc')\n",
    "# ax.set_xscale('log')\n",
    "# ax.legend()\n",
    "# plt.savefig('../output/drop_prob.pdf')"
   ]
  },
  {
   "cell_type": "code",
   "execution_count": null,
   "metadata": {},
   "outputs": [],
   "source": [
    "fig, ax = plt.subplots(1, 1, figsize=(4, 4))\n",
    "ax.set_title('SNR as a function of time')\n",
    "plot_results(ax, grouped)"
   ]
  },
  {
   "cell_type": "code",
   "execution_count": null,
   "metadata": {},
   "outputs": [],
   "source": [
    "final_snrs = [group[tf].values for k, group in grouped]\n",
    "\n",
    "res = ks_2samp(final_snrs[0], final_snrs[1])\n",
    "label_ = [k['gen_mode'] for k, group in grouped]\n",
    "\n",
    "print res # two sided / 2 = one sided"
   ]
  },
  {
   "cell_type": "code",
   "execution_count": null,
   "metadata": {},
   "outputs": [],
   "source": [
    "plt.figure(figsize=(4, 4))\n",
    "X_plot = np.linspace(0, 20, 1000)[:, np.newaxis]\n",
    "for final_snr, label in zip(final_snrs, label_):\n",
    "    log_dens = KernelDensity().fit(final_snr[:, np.newaxis]).score_samples(X_plot)\n",
    "    plt.plot(X_plot, np.exp(log_dens), c=None, label=label)\n",
    "plt.xlabel('SNR')\n",
    "plt.ylabel('Normalized Density')\n",
    "plt.title('Density of SNR, p = {:.1E}'.format(res.pvalue))\n",
    "plt.legend()\n",
    "plt.tight_layout()\n",
    "# plt.savefig(os.path.join(output_dir, 'motion_benefit_density.png'), dpi=200)"
   ]
  },
  {
   "cell_type": "code",
   "execution_count": null,
   "metadata": {
    "collapsed": true
   },
   "outputs": [],
   "source": [
    "idx = [data[\n",
    "        (data['gen_mode'] == key) & \n",
    "        (data['ds'] == 0.4) & \n",
    "        (data['inference_mode'] == 'EM')\n",
    "    ].index.values for key in [EXP, NOM]]\n",
    "exp_idx, nom_idx = idx"
   ]
  },
  {
   "cell_type": "code",
   "execution_count": null,
   "metadata": {
    "collapsed": true
   },
   "outputs": [],
   "source": [
    "idx = [data[\n",
    "        (data['gen_mode'] == key) & \n",
    "        (data['ds'] == 0.4) & \n",
    "        (data['inference_mode'] == 'NoMotion')\n",
    "    ].index.values for key in [EXP, NOM]]\n",
    "nom_exp_idx, nom_nom_idx = idx\n",
    "# np.random.shuffle(exp_idx)\n",
    "# np.random.shuffle(nom_idx)"
   ]
  },
  {
   "cell_type": "code",
   "execution_count": null,
   "metadata": {
    "collapsed": true
   },
   "outputs": [],
   "source": [
    "# da = da_[nom_exp_idx[0]]\n",
    "\n",
    "# fig, ax = plt.subplots(1, 1)\n",
    "# da.plot_image_estimate(fig=fig, ax=ax, q=100)"
   ]
  },
  {
   "cell_type": "code",
   "execution_count": null,
   "metadata": {
    "collapsed": true
   },
   "outputs": [],
   "source": [
    "# da = da_[exp_idx[2]]\n",
    "\n",
    "# da.plot_em_estimate(-1)"
   ]
  },
  {
   "cell_type": "code",
   "execution_count": null,
   "metadata": {},
   "outputs": [],
   "source": [
    "fig, axes = plt.subplots(nrows=2, ncols=2, figsize=(3.5, 3.5))\n",
    "\n",
    "da_exp, da_nom = [da_[idx_[0]] for idx_ in [exp_idx, nom_idx]]\n",
    "\n",
    "ax = axes[0, 0]\n",
    "da_exp.plot_image_and_rfs(fig, ax, -1)\n",
    "a = 4; ax.set_xlim([-a, a]); ax.set_ylim([-a, a])\n",
    "b = 3; ax.set_xticks([-b, 0, b]); ax.set_yticks([-b, 0, b])\n",
    "\n",
    "ax.yaxis.set_ticks_position('left')\n",
    "ax.xaxis.set_ticks_position('bottom')\n",
    "# ax.xaxis.set_major_locator(MaxNLocator(3, symmetric=True))\n",
    "# ax.yaxis.set_major_locator(MaxNLocator(3, symmetric=True))\n",
    "# ax.axis('off')\n",
    "\n",
    "\n",
    "ax = axes[0, 1]\n",
    "plot_results(ax, grouped)\n",
    "ax.set_xlim([0., 700.])\n",
    "ax.set_xticks([0, 350, 700])\n",
    "ax.set_title('SNR vs time (ms)')\n",
    "# ax.set_xlabel('time (ms)')\n",
    "# ax.set_ylabel('SNR')\n",
    "ax.yaxis.set_ticks_position('left')\n",
    "ax.xaxis.set_ticks_position('bottom')\n",
    "\n",
    "\n",
    "# ax.xaxis.set_major_locator(MaxNLocator(3))\n",
    "ax.yaxis.set_major_locator(MaxNLocator(4))\n",
    "\n",
    "for v, da, label in zip(\n",
    "    [0, 1],\n",
    "    [da_exp, da_nom],\n",
    "    ['Motion', 'No Motion']):\n",
    "    ax = axes[1, v]\n",
    "    da.plot_image_estimate(fig, ax, da.N_itr - 1,\n",
    "                           colorbar=False)\n",
    "    ax.set_title('{}: SNR = {:.2f}'.format(label, da.snr_one_iteration(da.N_itr - 1)))\n",
    "    ax.set_xticks([])\n",
    "    ax.set_yticks([])\n",
    "\n",
    "#     ax.xaxis.set_major_locator(MaxNLocator(3))\n",
    "#     ax.yaxis.set_major_locator(MaxNLocator(3))\n",
    "\n",
    "\n",
    "for i, ax in enumerate(axes.flat):\n",
    "    ax.set_title(ax.get_title(), fontdict={'size': 10})\n",
    "    label=chr(ord('A') + i)\n",
    "    label_subplot(fig=fig, ax=ax, label=label, dx=0.07, dy=0.03)\n",
    "\n",
    "    \n",
    "    for axis in ['top','bottom','left','right']:\n",
    "        ax.spines[axis].set_visible(False)\n",
    "    \n",
    "plt.tight_layout(pad=0.5)\n",
    "plt.savefig(os.path.join('../output', 'motion_benefit_drop.pdf'), dpi=200)"
   ]
  },
  {
   "cell_type": "code",
   "execution_count": null,
   "metadata": {
    "collapsed": true
   },
   "outputs": [],
   "source": []
  },
  {
   "cell_type": "code",
   "execution_count": null,
   "metadata": {},
   "outputs": [],
   "source": [
    "fig = plt.figure(figsize=(7.5, 3.75))\n",
    "size = (6, 12)\n",
    "ax1 = plt.subplot2grid(size, (0, 0), colspan=3, rowspan=3)\n",
    "ax7 = plt.subplot2grid(size, (0, 3), colspan=3, rowspan=3)\n",
    "\n",
    "ax2 = plt.subplot2grid(size, (3, 0), colspan=3, rowspan=3)\n",
    "ax3 = plt.subplot2grid(size, (3, 3), rowspan=3, colspan=3)\n",
    "\n",
    "\n",
    "ax4_ = []\n",
    "for i in range(3):\n",
    "    ax4_.append(plt.subplot2grid(size, (0, 6 + 2 * i), rowspan=2, colspan=2))\n",
    "\n",
    "\n",
    "# ax7 = plt.subplot2grid(size, (2, 6), rowspan=4, colspan=2)\n",
    "    \n",
    "\n",
    "\n",
    "ax6_ = []\n",
    "for i in range(3):\n",
    "    ax6_.append(plt.subplot2grid(size, (2, 6 + 2 * i), rowspan=2, colspan=2))\n",
    "\n",
    "ax5_ = []\n",
    "for i in range(2):\n",
    "    ax5_.append(plt.subplot2grid(size, (4, 7 + 2 * i), rowspan=2, colspan=2))\n",
    "\n",
    "\n",
    "da_exp, da_nom = [da_[idx_[4]] for idx_ in [exp_idx, nom_idx]]\n",
    "\n",
    "da_nom_exp = da_[nom_exp_idx[0]]\n",
    "\n",
    "\n",
    "ax = ax1\n",
    "da.plot_base_image(fig=fig, ax=ax, colorbar=False)\n",
    "ax.set_title('Image on the Retina')\n",
    "ax.set_xticks([-3, 0, 3])\n",
    "ax.set_yticks([-3, 0, 3])\n",
    "\n",
    "# ax.yaxis.set_major_locator(MaxNLocator(3, symmetric=True))\n",
    "# ax.xaxis.set_major_locator(MaxNLocator(3, symmetric=True))\n",
    "\n",
    "for axis in ['top','bottom','left','right']:\n",
    "    ax.spines[axis].set_visible(False)\n",
    "\n",
    "\n",
    "    \n",
    "ax = ax7\n",
    "\n",
    "plot_results(ax, grouped)\n",
    "ax.set_xlim([0., 700.])\n",
    "ax.set_xticks([0, 350, 700])\n",
    "ax.set_title('SNR vs time (ms)')\n",
    "for axis in ['top', 'right']:\n",
    "    ax.spines[axis].set_visible(False)\n",
    "ax.yaxis.set_major_locator(MaxNLocator(3))\n",
    "\n",
    "# da.plot_image_and_rfs(fig, ax)\n",
    "\n",
    "# # ax.set_title('E Projected onto the Retina \\n E thickness: {:.2f} arcmin \\n Neuron Spacing {:.2f} arcmin'.format(\n",
    "# #         2 * da.data['ds'], da.data['de']))\n",
    "# a = 6; ax.set_xlim([-a, a]); ax.set_ylim([-a, a])\n",
    "\n",
    "# # ax.set_yticks([-5, 0, 5])\n",
    "# ax.yaxis.set_major_locator(MaxNLocator(3, symmetric=True))\n",
    "# ax.xaxis.set_major_locator(MaxNLocator(3, symmetric=True))\n",
    "\n",
    "# ax.title.set_fontsize(7)\n",
    "\n",
    "# for axis in ['top','bottom','left','right']:\n",
    "#     ax.spines[axis].set_visible(False)\n",
    "\n",
    "\n",
    "    \n",
    "for v, da, label, ax in zip(\n",
    "    [0, 1],\n",
    "    [da_exp, da_nom],\n",
    "    ['S:M | D:EM', 'S:NM | D:EM'],\n",
    "    [ax2, ax3]):\n",
    "#     ax = axes[1, v]\n",
    "    da.plot_image_estimate(fig, ax, da.N_itr - 1,\n",
    "                           colorbar=False)\n",
    "    ax.set_title('{}'.format(label))\n",
    "    ax.set_xlabel('SNR = {:.2f}'.format(da.snr_one_iteration(da.N_itr - 1)))\n",
    "    ax.set_xticks([])\n",
    "    ax.set_yticks([])\n",
    "\n",
    "    \n",
    "    for axis in ['top','bottom','left','right']:\n",
    "        ax.spines[axis].set_visible(False)\n",
    "\n",
    "    ax.set_aspect('equal')\n",
    "\n",
    "# for ax in [ax7]:\n",
    "#     ax.axis('off')\n",
    "#     for axis in ['top','bottom','left','right']:\n",
    "#         ax.spines[axis].set_visible(False)\n",
    "\n",
    "\n",
    "\n",
    "\n",
    "\n",
    "for i, q in enumerate([9, 39, 79]):\n",
    "    ax = ax4_[i]\n",
    "    da = da_exp\n",
    "\n",
    "    colorbar = False\n",
    "    da.plot_image_estimate(fig, ax, q=q,\n",
    "                           colorbar=colorbar)\n",
    "    t0 = da.data['EM_data/{}/time_steps'.format(q)]\n",
    "    ax.set_title('T = {} ms'.format(t0), fontsize=7)\n",
    "    ax.xaxis.set_visible(False)\n",
    "    ax.yaxis.set_visible(False)\n",
    "\n",
    "    for axis in ['top','bottom','left','right']:\n",
    "        ax.spines[axis].set_visible(False)\n",
    "\n",
    "    ax = ax6_[i]\n",
    "    da_nom_exp.plot_image_estimate(fig, ax, q=q, colorbar=colorbar)\n",
    "\n",
    "    t0 = da.data['EM_data/{}/time_steps'.format(q)]\n",
    "    ax.set_title('T = {} ms'.format(t0), fontsize=7)\n",
    "    ax.xaxis.set_visible(False)\n",
    "    ax.yaxis.set_visible(False)\n",
    "    ax.set_ylabel('Motion | NoM')\n",
    "\n",
    "\n",
    "    for axis in ['top','bottom','left','right']:\n",
    "        ax.spines[axis].set_visible(False)\n",
    "        \n",
    "q = 139\n",
    "for i, title in enumerate(['x', 'y']):\n",
    "    ax = ax5_[i]\n",
    "    da.plot_path_estimate(ax, q, i)\n",
    "    ax.set_title(title)\n",
    "    ax.set_ylabel('')\n",
    "    start, end = ax.get_xlim()\n",
    "    ax.set_xticks([.7])\n",
    "    ax.set_xticklabels([700])\n",
    "    ax.set_xlabel('')\n",
    "\n",
    "    ax.set_yticks([0, 5])\n",
    "    \n",
    "    ax.xaxis.set_ticks_position('bottom')\n",
    "    ax.yaxis.set_ticks_position('left')\n",
    "    \n",
    "    for axis in ['top', 'right']:\n",
    "        ax.spines[axis].set_visible(False)\n",
    "        \n",
    "equalize_y_axes(ax5_[0], ax5_[1])\n",
    "\n",
    "# for i, mode in enumerate(['ON', 'OFF']):\n",
    "#     ax = ax6_[i]\n",
    "#     da.plot_spikes(ax, 600, mode=mode)\n",
    "#     ax.set_title('')\n",
    "\n",
    "# ax = ax5_[-1]\n",
    "# da.plot_spikes(ax, 600, mode='ON')\n",
    "# ax.set_title('ON RGCs')\n",
    "\n",
    "# for axis in ['top','bottom','left','right']:\n",
    "#     ax.spines[axis].set_visible(False)\n",
    "\n",
    "\n",
    "\n",
    "for i, ax in enumerate(\n",
    "    [\n",
    "        ax1, ax7, ax2, ax4_[0], ax6_[0], ax5_[0]\n",
    "    ]):\n",
    "    label=chr(ord('A') + i)\n",
    "\n",
    "    label_subplot(fig=fig, ax=ax, label=label, dx=0.03, dy=0.01)\n",
    "\n",
    "    ax.xaxis.set_ticks_position('bottom')\n",
    "    ax.yaxis.set_ticks_position('left')\n",
    "\n",
    "    \n",
    "for ax in fig.axes:\n",
    "    ax.title.set_fontsize(10)\n",
    "    \n",
    "plt.subplots_adjust(wspace=1, hspace=3, top=0.9, left=0.05, right=0.95, bottom=0.1)\n",
    "# plt.tight_layout()\n",
    "plt.savefig('../output/motion_benefit.pdf')"
   ]
  },
  {
   "cell_type": "code",
   "execution_count": null,
   "metadata": {
    "collapsed": true
   },
   "outputs": [],
   "source": []
  },
  {
   "cell_type": "code",
   "execution_count": null,
   "metadata": {
    "collapsed": true
   },
   "outputs": [],
   "source": [
    "# plt.figure(figsize=(4, 4))\n",
    "# plt.title('SNR as a function of time')\n",
    "# alpha = 0.5\n",
    "# for c, (name, group) in zip(c_, grouped):\n",
    "#     inf_mode, gen_mode, prior_dc, ds = name\n",
    "#     label = {EXP: 'Motion', NOM: 'No Motion'}[gen_mode]\n",
    "#     plt.plot(t, group[list(t)].T.iloc[:, 0], c=c, label=label, alpha=alpha)\n",
    "#     plt.plot(t, group[list(t)].T.iloc[:, 1:], c=c, alpha=alpha);\n",
    "#     plt.xlabel('time (ms)')\n",
    "# plt.legend(loc='upper left')\n",
    "# # plt.savefig(os.path.join(output_dir, 'snr_time_no_motion_vs_motion_0.png'), dpi=200)"
   ]
  },
  {
   "cell_type": "code",
   "execution_count": null,
   "metadata": {
    "collapsed": true
   },
   "outputs": [],
   "source": [
    "idx = data[\n",
    "        (data['gen_mode'] == NOM) & \n",
    "#         (data['ds'] == 0.4) & \n",
    "        (data['inference_mode'] == 'NoMotion')\n",
    "    ].index.values\n",
    "print idx"
   ]
  },
  {
   "cell_type": "code",
   "execution_count": null,
   "metadata": {
    "collapsed": true
   },
   "outputs": [],
   "source": [
    "da = da_[idx[0]]"
   ]
  },
  {
   "cell_type": "code",
   "execution_count": null,
   "metadata": {
    "collapsed": true
   },
   "outputs": [],
   "source": []
  },
  {
   "cell_type": "code",
   "execution_count": null,
   "metadata": {
    "collapsed": true
   },
   "outputs": [],
   "source": [
    "fig, ax = plt.subplots(1, 1)\n",
    "\n",
    "da.plot_image_estimate(fig=fig, ax=ax, q=-1)"
   ]
  },
  {
   "cell_type": "code",
   "execution_count": null,
   "metadata": {
    "collapsed": true
   },
   "outputs": [],
   "source": []
  },
  {
   "cell_type": "code",
   "execution_count": null,
   "metadata": {
    "collapsed": true
   },
   "outputs": [],
   "source": [
    "da.plot_em_estimate(-1)\n",
    "# plt.savefig(os.path.join(output_dir, 'ds04_e_reconstruction.png'), dpi=200)"
   ]
  },
  {
   "cell_type": "code",
   "execution_count": null,
   "metadata": {
    "collapsed": true
   },
   "outputs": [],
   "source": []
  },
  {
   "cell_type": "code",
   "execution_count": null,
   "metadata": {
    "collapsed": true,
    "scrolled": false
   },
   "outputs": [],
   "source": [
    "fig, axes = plt.subplots(5, 2, figsize=(4 * 2, 3.5 * 5))\n",
    "for i, idx in enumerate(nom_idx[0:10]):\n",
    "#     plt.subplot(5, 2, i + 1)\n",
    "    da_[idx].plot_image_estimate(fig, axes.flat[i], -1)\n",
    "plt.savefig(os.path.join(output_dir, 'e_reconstructions_no_motion.png'), dpi=200)"
   ]
  },
  {
   "cell_type": "code",
   "execution_count": null,
   "metadata": {
    "collapsed": true
   },
   "outputs": [],
   "source": [
    "fig, axes = plt.subplots(5, 2, figsize=(4 * 2, 3.5 * 5))\n",
    "for i, idx in enumerate(exp_idx[0:10]):\n",
    "    da_[idx].plot_image_estimate(fig, axes.flat[i], -1)\n",
    "plt.savefig(os.path.join(output_dir, 'e_reconstructions_motion.png'), dpi=200)"
   ]
  },
  {
   "cell_type": "code",
   "execution_count": null,
   "metadata": {
    "collapsed": true
   },
   "outputs": [],
   "source": []
  },
  {
   "cell_type": "code",
   "execution_count": null,
   "metadata": {
    "collapsed": true
   },
   "outputs": [],
   "source": [
    "plt.figure(figsize=(20, 20))\n",
    "for i, t in enumerate(range(0, 140, 10)):\n",
    "    plt.subplot(5, 5, i + 1)\n",
    "    da.plot_image_estimate(t)"
   ]
  },
  {
   "cell_type": "code",
   "execution_count": null,
   "metadata": {
    "collapsed": true
   },
   "outputs": [],
   "source": []
  },
  {
   "cell_type": "code",
   "execution_count": null,
   "metadata": {
    "collapsed": true
   },
   "outputs": [],
   "source": []
  },
  {
   "cell_type": "code",
   "execution_count": null,
   "metadata": {
    "collapsed": true
   },
   "outputs": [],
   "source": []
  },
  {
   "cell_type": "code",
   "execution_count": null,
   "metadata": {
    "collapsed": true
   },
   "outputs": [],
   "source": []
  },
  {
   "cell_type": "code",
   "execution_count": null,
   "metadata": {
    "collapsed": true
   },
   "outputs": [],
   "source": []
  },
  {
   "cell_type": "code",
   "execution_count": null,
   "metadata": {
    "collapsed": true
   },
   "outputs": [],
   "source": []
  },
  {
   "cell_type": "code",
   "execution_count": null,
   "metadata": {
    "collapsed": true
   },
   "outputs": [],
   "source": []
  },
  {
   "cell_type": "code",
   "execution_count": null,
   "metadata": {
    "collapsed": true
   },
   "outputs": [],
   "source": []
  },
  {
   "cell_type": "markdown",
   "metadata": {},
   "source": [
    "# Group SNR plots by image size and diffusion constant"
   ]
  },
  {
   "cell_type": "code",
   "execution_count": null,
   "metadata": {
    "collapsed": true
   },
   "outputs": [],
   "source": [
    "out_ = []\n",
    "for pkl_fn in pkl_fns:\n",
    "    da = DataAnalyzer.fromfilename(pkl_fn)\n",
    "    out = [da.data['ds'], da.data['motion_gen']['dc']]\n",
    "    out = out + da.SNR_list()\n",
    "    out_.append(out)"
   ]
  },
  {
   "cell_type": "code",
   "execution_count": null,
   "metadata": {
    "collapsed": true
   },
   "outputs": [],
   "source": [
    "t = da_[0].time_list()"
   ]
  },
  {
   "cell_type": "code",
   "execution_count": null,
   "metadata": {
    "collapsed": true
   },
   "outputs": [],
   "source": [
    "data = pd.DataFrame.from_records(out_, columns=['ds', 'dc_gen'] + list(t))\n",
    "# data = data[data['ds'] == 0.5]"
   ]
  },
  {
   "cell_type": "code",
   "execution_count": null,
   "metadata": {
    "collapsed": true
   },
   "outputs": [],
   "source": [
    "grouped = pd.groupby(data, ['ds', 'dc_gen'])\n",
    "c_ = ['g', 'b', 'r', 'y', 'm', 'c']"
   ]
  },
  {
   "cell_type": "code",
   "execution_count": null,
   "metadata": {
    "collapsed": true
   },
   "outputs": [],
   "source": [
    "plt.figure(figsize=(10, 7))\n",
    "plt.title('SNR as a function of time')\n",
    "for c, (name, group) in zip(c_, grouped):\n",
    "    label = 'ds={}, dc={}'.format(*name)\n",
    "    plot_fill_between(t, group[list(t)], label=label, c=c)\n",
    "plt.legend(loc='upper left')\n",
    "# plt.savefig(os.path.join(output_dir, 'motion_benefit.png'), dpi=200)"
   ]
  },
  {
   "cell_type": "markdown",
   "metadata": {
    "collapsed": true
   },
   "source": [
    "# Uncertainty"
   ]
  },
  {
   "cell_type": "code",
   "execution_count": null,
   "metadata": {
    "collapsed": true
   },
   "outputs": [],
   "source": [
    "da = da_[0]"
   ]
  },
  {
   "cell_type": "code",
   "execution_count": null,
   "metadata": {
    "collapsed": true
   },
   "outputs": [],
   "source": [
    "da.data['EM_data/0']"
   ]
  },
  {
   "cell_type": "code",
   "execution_count": null,
   "metadata": {
    "collapsed": true
   },
   "outputs": [],
   "source": []
  }
 ],
 "metadata": {
  "kernelspec": {
   "display_name": "Python 2",
   "language": "python",
   "name": "python2"
  },
  "language_info": {
   "codemirror_mode": {
    "name": "ipython",
    "version": 2
   },
   "file_extension": ".py",
   "mimetype": "text/x-python",
   "name": "python",
   "nbconvert_exporter": "python",
   "pygments_lexer": "ipython2",
   "version": "2.7.13"
  }
 },
 "nbformat": 4,
 "nbformat_minor": 1
}
