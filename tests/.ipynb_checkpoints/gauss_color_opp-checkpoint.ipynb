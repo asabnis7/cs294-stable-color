{
 "cells": [
  {
   "cell_type": "code",
   "execution_count": 1,
   "metadata": {
    "scrolled": true
   },
   "outputs": [
    {
     "name": "stdout",
     "output_type": "stream",
     "text": [
      "/home/arjun/Desktop/Arjun/School/cs294-stable-color\n"
     ]
    }
   ],
   "source": [
    "cd .."
   ]
  },
  {
   "cell_type": "code",
   "execution_count": 2,
   "metadata": {},
   "outputs": [],
   "source": [
    "import numpy as np\n",
    "import matplotlib.pyplot as plt\n",
    "#import scipy as scp\n",
    "%matplotlib inline\n",
    "plt.rcParams['image.cmap'] = 'gray'\n",
    "plt.rcParams['image.interpolation'] = 'nearest'\n",
    "\n",
    "from src.gauss_color import EMGauss\n",
    "from utils.image_gen import ImageGenerator\n",
    "from utils.hex_lattice import gen_hex_lattice, gen_color_lattice\n",
    "#from sparse_coder.prep_field_dataset import get_data_matrix"
   ]
  },
  {
   "cell_type": "code",
   "execution_count": 3,
   "metadata": {},
   "outputs": [],
   "source": [
    "plt.rcParams.update({'font.size': 7})"
   ]
  },
  {
   "cell_type": "code",
   "execution_count": 4,
   "metadata": {},
   "outputs": [],
   "source": [
    "FONTSIZE=7"
   ]
  },
  {
   "cell_type": "code",
   "execution_count": 5,
   "metadata": {},
   "outputs": [],
   "source": [
    "from src.gauss_plots import plot_image, plot_rfs, compare_fourier, plot_path_estimate, get_snr_list"
   ]
  },
  {
   "cell_type": "code",
   "execution_count": 6,
   "metadata": {},
   "outputs": [],
   "source": [
    "l_i = 20\n",
    "ds = 0.3\n",
    "#de = 1.09\n",
    "de = 0.9\n",
    "dt = 0.001\n",
    "rf_ratio = 0.203\n",
    "# rf_ratio = 0.4\n",
    "n_t = 10\n",
    "l_n = (l_i * ds / np.sqrt(2))"
   ]
  },
  {
   "cell_type": "code",
   "execution_count": 200,
   "metadata": {},
   "outputs": [],
   "source": [
    "#mat = get_data_matrix(path='data/IMAGES.npy', l_patch=l_i, n_patches=10)\n",
    "#s_gen = mat[3].astype('float32')\n",
    "#I = ImageGenerator(l_i)\n",
    "#I.make_big_e()\n",
    "#s_gen = I.img.astype('float32')\n",
    "oski = plt.imread('data/oski.jpg')\n",
    "s_gen_color = oski[290:310, 450:470, :] / 255.0\n",
    "#leaf = plt.imread('data/leaf.jpg')\n",
    "#s_gen_color = leaf[290:310, 450:470, :] / 255.0\n",
    "\n",
    "# invert colors for additive color\n",
    "#s_gen[s_gen == 1] = 0.5\n",
    "#s_gen[s_gen == 0] = 1\n",
    "#s_gen[s_gen == 0.5] = 0\n",
    "\n",
    "# subtractive color - color range 0,255 mapped to 0,1\n",
    "# works like a printer - subtract\n",
    "#rgb = [255.0, 255.0, 0.0]\n",
    "#s_gen_color = np.asarray(np.dstack((s_gen,s_gen,s_gen)))\n",
    "#s_gen_color[:,:,0] = s_gen_color[:,:,0] - (rgb[0]/255.0) # R\n",
    "#s_gen_color[:,:,1] = s_gen_color[:,:,1] - (rgb[1]/255.0) # G\n",
    "#s_gen_color[:,:,2] = s_gen_color[:,:,2] - (rgb[2]/255.0) # B\n",
    "#s_gen_color[s_gen_color < 0] = 0"
   ]
  },
  {
   "cell_type": "code",
   "execution_count": 201,
   "metadata": {},
   "outputs": [
    {
     "data": {
      "text/plain": [
       "<matplotlib.image.AxesImage at 0x7f7e2d8ae050>"
      ]
     },
     "execution_count": 201,
     "metadata": {},
     "output_type": "execute_result"
    },
    {
     "data": {
      "image/png": "[encoded data removed]",
      "text/plain": [
       "<Figure size 432x288 with 1 Axes>"
      ]
     },
     "metadata": {
      "needs_background": "light"
     },
     "output_type": "display_data"
    }
   ],
   "source": [
    "XE, YE = gen_color_lattice(0.4, 0.4, 0.2, 15.00, 0.4)\n",
    "# plot colored E\n",
    "plt.imshow(s_gen_color)\n",
    "\n",
    "# shift mosaic to fit in plot\n",
    "#scaleR = [9.5]*len(XE[0])\n",
    "#scaleG = [9.5]*len(XE[1])\n",
    "#scaleB = [9.5]*len(XE[2])\n",
    "# plot mosaic\n",
    "#plt.scatter(XE[0]+scaleR, YE[0]+scaleR, color='red', alpha=0.5)\n",
    "#plt.scatter(XE[1]+scaleG, YE[1]+scaleG, color='green', alpha=0.5)\n",
    "#plt.scatter(XE[2]+scaleB, YE[2]+scaleB, color='blue', alpha=0.5)\n",
    "#s_gen = s_gen.reshape(l_i*l_i,)"
   ]
  },
  {
   "cell_type": "code",
   "execution_count": 202,
   "metadata": {},
   "outputs": [
    {
     "data": {
      "text/plain": [
       "<matplotlib.image.AxesImage at 0x7f7e2d7d6510>"
      ]
     },
     "execution_count": 202,
     "metadata": {},
     "output_type": "execute_result"
    },
    {
     "data": {
      "image/png": "[encoded data removed]",
      "text/plain": [
       "<Figure size 432x288 with 1 Axes>"
      ]
     },
     "metadata": {
      "needs_background": "light"
     },
     "output_type": "display_data"
    }
   ],
   "source": [
    "# FOR COLOR OPPONENCY\n",
    "# Black-white -> L+M+S\n",
    "# Red-green -> L+M\n",
    "# Blue-yellow -> (L+M)-S\n",
    "\n",
    "# transform RGB to LCC\n",
    "LCC = np.array(([0.299, 0.587, 0.114], [0.5, 0.5, -1.0], [0.866, -0.866, 0.0]))\n",
    "theta_0 = np.zeros((l_i, l_i))\n",
    "color_opponency = np.zeros((l_i, l_i, 3))\n",
    "for i in range(0, l_i):\n",
    "    for j in range(0, l_i):\n",
    "        color_opponency[i,j,:] = LCC.dot(s_gen_color[i,j,:])\n",
    "        theta = np.arctan2(color_opponency[i,j,2], color_opponency[i,j,1])\n",
    "        if (theta < np.pi/3.0):\n",
    "            theta_0[i,j] = (3.0/2.0)*theta\n",
    "        elif (theta > np.pi/3.0) and (theta < np.pi):\n",
    "            theta_0[i,j] = np.pi/2.0 + (3.0/4.0)*(theta-np.pi/3.0)\n",
    "        c, s = np.cos(theta_0[i,j]-theta), np.sin(theta_0[i,j]-theta)\n",
    "        R = np.array(((c,-s), (s, c)))\n",
    "        color_opponency[i,j,1:3] = R.dot(color_opponency[i,j,1:3])\n",
    "        \n",
    "#yb_range = np.max(color_opponency[:,:,1]) - np.min(color_opponency[:,:,1])\n",
    "#rg_range = np.max(color_opponency[:,:,2]) - np.min(color_opponency[:,:,2])\n",
    "#color_opponency[:,:,1] = (color_opponency[:,:,1] - np.min(color_opponency[:,:,1])) / yb_range\n",
    "#color_opponency[:,:,2] = (color_opponency[:,:,2] - np.min(color_opponency[:,:,2])) / rg_range\n",
    "color_opponency[:,:,0][color_opponency[:,:,0] < 0] = 0\n",
    "color_opponency[:,:,0][color_opponency[:,:,0] > 1] = 1\n",
    "color_opponency[:,:,1][color_opponency[:,:,1] < -1] = -1\n",
    "color_opponency[:,:,1][color_opponency[:,:,1] > 1] = 1\n",
    "color_opponency[:,:,2][color_opponency[:,:,2] < -1] = -1\n",
    "color_opponency[:,:,2][color_opponency[:,:,2] > 1] = 1\n",
    "\n",
    "plt.imshow(color_opponency) "
   ]
  },
  {
   "cell_type": "code",
   "execution_count": 203,
   "metadata": {},
   "outputs": [
    {
     "name": "stdout",
     "output_type": "stream",
     "text": [
      "Run # 0\n",
      "WARNING:tensorflow:Falling back to exponential-space implementation of einsum() because index \"p\" is summed over more than two inputs.\n",
      "WARNING:tensorflow:Falling back to exponential-space implementation of einsum() because index \"t\" is summed over more than two inputs.\n",
      "Run # 1\n",
      "WARNING:tensorflow:Falling back to exponential-space implementation of einsum() because index \"p\" is summed over more than two inputs.\n",
      "WARNING:tensorflow:Falling back to exponential-space implementation of einsum() because index \"t\" is summed over more than two inputs.\n",
      "Run # 2\n",
      "WARNING:tensorflow:Falling back to exponential-space implementation of einsum() because index \"p\" is summed over more than two inputs.\n",
      "WARNING:tensorflow:Falling back to exponential-space implementation of einsum() because index \"t\" is summed over more than two inputs.\n",
      "CPU times: user 3min 10s, sys: 24.6 s, total: 3min 34s\n",
      "Wall time: 1min\n"
     ]
    }
   ],
   "source": [
    "%%time\n",
    "#s_gen_color.shape\n",
    "#s_gen = s_gen_color[:,:,0] #1st run\n",
    "#s_gen = s_gen_color[:,:,1] #2nd run\n",
    "#s_gen = s_gen_color[:,:,2] #3rd run\n",
    "#s_gen = s_gen.reshape(l_i*l_i,)\n",
    "#plt.imshow(s_gen.reshape(l_i, l_i))\n",
    "pg = EMGauss.init_path_generator(motion_gen={'mode': 'Diffusion', 'dc': 4.}, n_t=n_t, dt=dt)\n",
    "path = pg.gen_path()\n",
    "#path = path*0.0 # no motion\n",
    "#tests = ['redgreen', 'redgreen', 'blue']\n",
    "opponency_tests = ['', 'greenblue', 'redgreen']\n",
    "\n",
    "data_ = [[],[],[]]\n",
    "\n",
    "for i in range(0,3):\n",
    "    print 'Run #', i\n",
    "    s_gen = color_opponency[:,:,i].reshape(l_i*l_i,)\n",
    "    #s_gen = s_gen_color[:,:,i].reshape(l_i*l_i,)\n",
    "    \n",
    "    emg = EMGauss(\n",
    "        test=opponency_tests[i],\n",
    "        #test=tests[i],\n",
    "        l_i=l_i, \n",
    "        motion_gen={'mode': 'Diffusion', 'dc': 4.},\n",
    "        motion_prior={'dc': 10.},\n",
    "        n_t=n_t,\n",
    "        ds=ds,\n",
    "        de=de,\n",
    "        dt=dt,\n",
    "        n_p=50,\n",
    "        print_mode=True,\n",
    "        l_n=l_n,\n",
    "        rf_ratio=rf_ratio,\n",
    "        sig_obs=0.1,\n",
    "        r=0.45,\n",
    "        g=0.45,\n",
    "        b=0.1,\n",
    "        neuron_layout='hex_color'\n",
    "    )\n",
    "    \n",
    "    emg.pg = pg;\n",
    "    \n",
    "    n_repeats = 1\n",
    "\n",
    "    for _ in range(n_repeats):\n",
    "        #m, xr, yr = emg.gen_data(s_gen)\n",
    "        m, xr, yr = emg.gen_data(s_gen, pg, path)\n",
    "        s, s_est_ = emg.run_em(m, n_passes=1, n_itr=n_t, reg=1.)\n",
    "        emg.pf.calculate_means_sdevs()\n",
    "\n",
    "        means = emg.pf.means.copy()\n",
    "        sdevs = emg.pf.sdevs.copy()\n",
    "\n",
    "\n",
    "        data_[i].append(\n",
    "            {\n",
    "                'm': m,\n",
    "                'xr': xr,\n",
    "                'yr': yr,\n",
    "                's': s,\n",
    "                's_est_': s_est_,\n",
    "                'means': means,\n",
    "                'sdevs': sdevs\n",
    "            })\n",
    "    \n",
    "    with emg.tb.sess.as_default():\n",
    "        xe, ye = emg.tb.sess.run([emg.tb.t_xe, emg.tb.t_ye])\n",
    "        xs, ys = emg.tb.sess.run([emg.tb.t_xs, emg.tb.t_ys])\n",
    "    \n",
    "    if i == 0:\n",
    "        stotal = [[],[],[]]\n",
    "    \n",
    "    stotal[i] = s\n",
    "    \n",
    "    if i == 2:\n",
    "        scolor = np.dstack((stotal[0].reshape(l_i,l_i), stotal[1].reshape(l_i,l_i),stotal[2].reshape(l_i,l_i)))\n",
    "        #plt.imshow(scolor)\n",
    "    "
   ]
  },
  {
   "cell_type": "code",
   "execution_count": 223,
   "metadata": {},
   "outputs": [
    {
     "data": {
      "text/plain": [
       "<matplotlib.image.AxesImage at 0x7f7e276b6950>"
      ]
     },
     "execution_count": 223,
     "metadata": {},
     "output_type": "execute_result"
    },
    {
     "data": {
      "image/png": "[encoded data removed]",
      "text/plain": [
       "<Figure size 432x288 with 1 Axes>"
      ]
     },
     "metadata": {
      "needs_background": "light"
     },
     "output_type": "display_data"
    }
   ],
   "source": [
    "#plt.scatter(emg.xe[0],emg.ye[0], color='red')\n",
    "#plt.scatter(emg.xe[1],emg.ye[1], color='green')\n",
    "#plt.scatter(emg.xe[2],emg.ye[2], color='blue')\n",
    "#plt.scatter(xs,ys, alpha=0.4)\n",
    "#plt.show()\n",
    "scolor = np.dstack((stotal[0].reshape(l_i,l_i), stotal[1].reshape(l_i,l_i),stotal[2].reshape(l_i,l_i)))\n",
    "\n",
    "# change from opponency to RGB\n",
    "RGB = np.array(([1.0, 0.114, 0.7436], [1.0, 0.114, -0.4111], [1.00, -0.886, 0.1663]))\n",
    "theta_inv = np.zeros((l_i, l_i))\n",
    "sgen_rgb = np.zeros((l_i, l_i, 3))\n",
    "scolor[:,:,1] = scolor[:,:,1] + scolor[:,:,0] - scolor[:,:,2]\n",
    "scolor[:,:,2] = scolor[:,:,0] - scolor[:,:,2]\n",
    "for i in range(0, l_i):\n",
    "    for j in range(0, l_i):\n",
    "        theta_0 = np.arctan2(scolor[i,j,2], scolor[i,j,1])\n",
    "        if (theta_0 < np.pi/2.0):\n",
    "            theta_inv[i,j] = (2.0/3.0)*theta_0\n",
    "        elif (theta_0 > np.pi/2.0) and (theta_0 < np.pi):\n",
    "            theta_inv[i,j] = np.pi/3.0 + (4.0/3.0)*(theta_0-np.pi/2.0)\n",
    "        c, s = np.cos(theta_inv[i,j]-theta_0), np.sin(theta_inv[i,j]-theta_0)\n",
    "        R = np.array(((c,-s), (s, c)))\n",
    "        sgen_rgb[i,j,1:3] = R.dot(scolor[i,j,1:3])\n",
    "        sgen_rgb[i,j,:] = RGB.dot(scolor[i,j,:])\n",
    "\n",
    "sgen_rgb[sgen_rgb < 0] = 0        \n",
    "sgen_rgb[sgen_rgb > 1] = 1\n",
    "        \n",
    "from src.gauss_plots import smooth_image\n",
    "sr = smooth_image(sgen_rgb[:,:,0])\n",
    "sg = smooth_image(sgen_rgb[:,:,1])\n",
    "sb = smooth_image(sgen_rgb[:,:,2])\n",
    "sgen_smooth = np.dstack((sr,sg,sb))\n",
    "\n",
    "plt.imshow(sgen_smooth)"
   ]
  },
  {
   "cell_type": "code",
   "execution_count": 205,
   "metadata": {
    "scrolled": true
   },
   "outputs": [],
   "source": [
    "#plt.scatter(xr,yr)\n",
    "#plt.scatter(xs,ys, color='blue', alpha=0.2)\n",
    "#plt.scatter(xe,ye, color='red', alpha=0.2)\n",
    "\n",
    "# 1st run\n",
    "#stotal = [[],[],[]]\n",
    "#stotal[0] = s\n",
    "# 2nd run\n",
    "#stotal[1] = s \n",
    "# 3rd run\n",
    "#stotal[2] = s\n",
    "#scolor = np.dstack((stotal[0].reshape(l_i,l_i), stotal[1].reshape(l_i,l_i),stotal[2].reshape(l_i,l_i)))\n",
    "#plt.imshow(scolor)"
   ]
  },
  {
   "cell_type": "code",
   "execution_count": null,
   "metadata": {},
   "outputs": [],
   "source": [
    "for i in range(0,3):\n",
    "    for d in data_[i]:\n",
    "        #d['snr_list'] = get_snr_list(s_gen, d['s_est_'], (d['xr'], d['yr']), d['means'], xs, ys, ds)\n",
    "        d['snr_list'] = get_snr_list(s_gen_color[:,:,i], d['s_est_'], (d['xr'], d['yr']), d['means'], xs, ys, ds)"
   ]
  },
  {
   "cell_type": "code",
   "execution_count": null,
   "metadata": {},
   "outputs": [],
   "source": [
    "from src.gauss_plots import smooth_image\n",
    "\n",
    "def plot_image(fig, ax, s, ds, colorbar=False, alpha=1.,\n",
    "                    cmap=plt.cm.gray, title='', vmin=None, vmax=None):\n",
    "    \"\"\"\n",
    "    Plot the image.\n",
    "\n",
    "    Parameters\n",
    "    ----------\n",
    "    fig : plt.Figure\n",
    "        Figure\n",
    "    ax : plt.Axes\n",
    "        Axes to plot image\n",
    "    s : array, shape (l_i, l_i)\n",
    "        Unraveled image to be plotted.\n",
    "    ds : float\n",
    "        Spacing between pixels.\n",
    "    colorbar : bool\n",
    "        If true, show a colorbar.\n",
    "    alpha : float\n",
    "        Alpha for showing image.\n",
    "    cmap : plt.cm\n",
    "        Colormap.\n",
    "    title : str\n",
    "        String for the title.\n",
    "    vmin, vmax : float\n",
    "        Min and max for imshow.\n",
    "    \"\"\"\n",
    "    s1 = smooth_image(s)\n",
    "    l_i = s.shape[0]\n",
    "    if vmin is None:\n",
    "        vmin = s.min()\n",
    "    if vmax is None:\n",
    "        vmax = s.max()\n",
    "    a = ds * l_i / 2\n",
    "    im = ax.imshow(\n",
    "        s1, cmap=cmap, interpolation='gaussian',\n",
    "        extent=[-a, a, -a, a], alpha=alpha,\n",
    "        vmin=vmin, vmax=vmax)\n",
    "    ax.set_title(title, fontsize=FONTSIZE)\n",
    "    if colorbar:\n",
    "        fig.colorbar(im, ax=ax)\n",
    "\n",
    "\n",
    "\n",
    "def plot_fourier_spectrum(fig, ax, s, ds, de):\n",
    "    \"\"\"\n",
    "    Plot the fourier spectrum.\n",
    "\n",
    "    Parameters\n",
    "    ----------\n",
    "    fig : plt.Figure\n",
    "        Figure for plotting\n",
    "    ax : plt.axes\n",
    "        Plotting axes.\n",
    "    s : array, shape (l_i, l_i)\n",
    "        Image to get the fourier transform of.\n",
    "    ds : float\n",
    "        Spacing of the pixels.\n",
    "    de : float\n",
    "        Spacing of Receptive fields.\n",
    "    \"\"\"\n",
    "    s1 = smooth_image(s)\n",
    "    l_i = s.shape[0]\n",
    "    ax.set_title('Fourier Transform', fontsize=FONTSIZE)\n",
    "    freqs = np.fft.fftshift(np.fft.fftfreq(l_i)) / ds\n",
    "    df = (freqs[1] - freqs[0])\n",
    "    fmin = freqs[0] - df / 2\n",
    "    fmax = freqs[-1] + df / 2\n",
    "    im = ax.imshow(np.abs(np.fft.fftshift(np.fft.fft2(s1))),\n",
    "               extent=[fmin, fmax, fmin, fmax],\n",
    "               cmap=plt.get_cmap('afmhot'))\n",
    "    fn = 0.5 * de\n",
    "    ax.add_patch(plt.Circle((0, 0), fn, color='gray', alpha=0.5))\n",
    "    ax.add_patch(plt.Circle((0, 0), fn / (np.sqrt(3.) / 2.), color='gray', alpha=0.25))\n",
    "    fig.colorbar(im, ax=ax)\n",
    "\n",
    "\n",
    "\n",
    "def compare_fourier(s_gen, s_inf, snr_list, l_i, ds, de, \n",
    "             xe, ye, rf_ratio):\n",
    "    \"\"\" \n",
    "    Plot the two fourier spectrums.\n",
    "\n",
    "    Parameters\n",
    "    ----------\n",
    "    s_gen : array, shape (l_i, l_i)\n",
    "      Image that generated the observations.\n",
    "    s_inf : array, shape (l_i, l_i)\n",
    "      Inferred image.\n",
    "    ds : float\n",
    "      Spacing between pixels.\n",
    "    de : float\n",
    "      Spacing between receptors.\n",
    "    xe, ye : array, shape (n_sensors,)\n",
    "      X, Y positions of sensors.\n",
    "    \"\"\"\n",
    "    n_row, n_col = 2, 3\n",
    "    fig, axes = plt.subplots(nrows=n_row, ncols=n_col, \n",
    "                        figsize=(n_col * 7/3., n_row * 2))\n",
    "    vmin, vmax = s_gen.min(), s_gen.max()\n",
    "\n",
    "    for i, (s, name) in enumerate(zip([s_gen, s_inf], ['Original', 'Estimate'])):\n",
    "        ax = axes[i][0]\n",
    "        plot_image(fig, ax, s, ds=ds, title='Image: {}'.format(name),\n",
    "                 vmin=vmin, vmax=vmax)\n",
    "\n",
    "        ax = axes[i][1]\n",
    "        plot_fourier_spectrum(fig, ax, s, ds, de) \n",
    "\n",
    "    ax = axes[0][2]\n",
    "    plot_rfs(ax, xe, ye, de, rf_ratio, alpha=0.5)\n",
    "    plot_image(\n",
    "      fig, ax, s_gen, ds=ds,\n",
    "      title='Image: {}'.format('Image with RFs')\n",
    "    )\n",
    "\n",
    "    ax = axes[1][2]\n",
    "#     ax.plot(snr_list)\n",
    "    ax.set_title('SNR as a function of time', fontsize=FONTSIZE)\n",
    "    return fig, axes"
   ]
  },
  {
   "cell_type": "code",
   "execution_count": null,
   "metadata": {},
   "outputs": [],
   "source": [
    "from src.analyzer import plot_fill_between"
   ]
  },
  {
   "cell_type": "code",
   "execution_count": null,
   "metadata": {},
   "outputs": [],
   "source": [
    "snrs = [[],[],[]]\n",
    "for i in range(0,3):\n",
    "    snrs[i] = np.array([d['snr_list'] for d in data_[i]])\n",
    "snrs = snrs[0] + snrs[1] + snrs[2]\n",
    "snrs /= 3.0"
   ]
  },
  {
   "cell_type": "code",
   "execution_count": null,
   "metadata": {},
   "outputs": [],
   "source": [
    "plt.plot(snrs.T);"
   ]
  },
  {
   "cell_type": "code",
   "execution_count": null,
   "metadata": {},
   "outputs": [],
   "source": [
    "ax = plt.axes()\n",
    "plot_fill_between(ax, np.arange(snrs.shape[1]), snrs)"
   ]
  },
  {
   "cell_type": "code",
   "execution_count": null,
   "metadata": {},
   "outputs": [],
   "source": [
    "snr_motion = snrs\n",
    "#snr_nomotion = snrs\n",
    "#ax = plt.axes()\n",
    "#plot_fill_between(ax, np.arange(snr_nomotion.shape[1]), snr_nomotion)\n",
    "#plot_fill_between(ax, np.arange(snr_motion.shape[1]), snr_motion)\n",
    "#data_[0][0].keys()"
   ]
  },
  {
   "cell_type": "code",
   "execution_count": null,
   "metadata": {},
   "outputs": [],
   "source": [
    "#fig, axes = compare_fourier(\n",
    "#    scolor[:,:,0].reshape(l_i, l_i), \n",
    "#    data_[0]['s_est_'][-1].reshape(l_i, l_i), \n",
    "#    data_[0]['snr_list'], \n",
    "#    l_i, ds, de, xe, ye, rf_ratio)\n",
    "#ax = axes[1][2]\n",
    "#plot_fill_between(ax, np.arange(snrs.shape[1]), snrs)\n",
    "#plt.savefig('gauss_super_res.pdf')"
   ]
  },
  {
   "cell_type": "code",
   "execution_count": null,
   "metadata": {},
   "outputs": [],
   "source": [
    "#plt.figure(figsize=(10, 4))\n",
    "#for d in range(2):\n",
    "#    plt.subplot(1, 2, d + 1)\n",
    "#    plot_path_estimate(data_[0]['means'], data_[0]['sdevs'], (xr, yr), d=d, q=100)"
   ]
  },
  {
   "cell_type": "code",
   "execution_count": null,
   "metadata": {},
   "outputs": [],
   "source": [
    "#plt.imshow(s_gen.reshape(l_i, l_i))\n",
    "#plt.colorbar()"
   ]
  },
  {
   "cell_type": "code",
   "execution_count": null,
   "metadata": {},
   "outputs": [],
   "source": []
  }
 ],
 "metadata": {
  "kernelspec": {
   "display_name": "Python 2",
   "language": "python",
   "name": "python2"
  },
  "language_info": {
   "codemirror_mode": {
    "name": "ipython",
    "version": 2
   },
   "file_extension": ".py",
   "mimetype": "text/x-python",
   "name": "python",
   "nbconvert_exporter": "python",
   "pygments_lexer": "ipython2",
   "version": "2.7.15+"
  }
 },
 "nbformat": 4,
 "nbformat_minor": 1
}
